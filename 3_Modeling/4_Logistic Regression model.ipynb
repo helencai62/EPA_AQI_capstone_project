{
 "cells": [
  {
   "cell_type": "markdown",
   "metadata": {},
   "source": [
    "# 7/11 + 7/12: Logistic Regression - Multi-class classification of AQI category"
   ]
  },
  {
   "cell_type": "code",
   "execution_count": 11,
   "metadata": {},
   "outputs": [],
   "source": [
    "#import libraries\n",
    "import pandas as pd\n",
    "import numpy as np\n",
    "import regex as re\n",
    "import datetime\n",
    "import timeit\n",
    "\n",
    "from sklearn.linear_model import LogisticRegression\n",
    "from sklearn.preprocessing import StandardScaler\n",
    "from sklearn.model_selection import GridSearchCV, train_test_split\n",
    "from sklearn.pipeline import Pipeline\n",
    "from sklearn.metrics import (roc_auc_score, confusion_matrix, accuracy_score, roc_curve, auc, \n",
    "classification_report, hamming_loss, mean_absolute_error)\n",
    "\n",
    "import geopandas as gpd\n",
    "from shapely.geometry import Point\n",
    "\n",
    "import matplotlib.pyplot as plt\n",
    "import seaborn as sns\n",
    "\n",
    "import warnings\n",
    "\n",
    "%matplotlib inline"
   ]
  },
  {
   "cell_type": "markdown",
   "metadata": {},
   "source": [
    "# Load in data"
   ]
  },
  {
   "cell_type": "code",
   "execution_count": 12,
   "metadata": {},
   "outputs": [],
   "source": [
    "def get_data(filename):\n",
    "    #print(type(filename), filename)\n",
    "    \n",
    "    #1. read in data\n",
    "    data = pd.read_csv(filename)\n",
    "    #print(data.shape)\n",
    "    \n",
    "    #2. drop null index col, null rows where date does not exist in month\n",
    "    data.drop(['Unnamed: 0'], axis=1, inplace = True)\n",
    "    data = data[data['state code'].isnull() == False]\n",
    "    #print(data.shape)\n",
    "    \n",
    "    #3. convert data columns to desired type\n",
    "    data['issue date'] = pd.to_datetime(data['issue date'])\n",
    "    data['valid date'] = pd.to_datetime(data['valid date'])\n",
    "    \n",
    "    data['record sequence'] = data['record sequence'].astype('int64')\n",
    "    data['action day']=[True if day == 'Yes' else False for day in data['action day']]    #no missing values\n",
    "    \n",
    "    data['urldate'] = pd.to_datetime(data['urldate'])\n",
    "    #print(data.dtypes)\n",
    "    \n",
    "    #4. create calculated data column: feature\n",
    "    data['categorical'] = [1 if (cat == 'Good' or cat == 'Moderate') else 0 for cat in data['AQI category']]\n",
    "    #print(data.shape)\n",
    "    \n",
    "    return(data)"
   ]
  },
  {
   "cell_type": "code",
   "execution_count": 13,
   "metadata": {},
   "outputs": [],
   "source": [
    "data = get_data('../Data/data.csv')"
   ]
  },
  {
   "cell_type": "code",
   "execution_count": 14,
   "metadata": {},
   "outputs": [
    {
     "data": {
      "text/plain": [
       "(1946051, 19)"
      ]
     },
     "execution_count": 14,
     "metadata": {},
     "output_type": "execute_result"
    }
   ],
   "source": [
    "data.shape"
   ]
  },
  {
   "cell_type": "code",
   "execution_count": 15,
   "metadata": {},
   "outputs": [],
   "source": [
    "#relevant data function has changed to now filter for:\n",
    "    #data type = 'F', for Forecast\n",
    "    #state = 'CA', rather than reporting area\n",
    "    #and drop duplicates per reporting area per valid date\n",
    "\n",
    "def relevant_data(datadf, state):\n",
    "    datadf = datadf[datadf['data type'] == 'F']\n",
    "    datadf = datadf[datadf['state code'] == state]\n",
    "    datadf.drop_duplicates(['valid date', 'reporting area'], keep = 'first', inplace = True)\n",
    "    return (datadf)"
   ]
  },
  {
   "cell_type": "code",
   "execution_count": 16,
   "metadata": {},
   "outputs": [
    {
     "data": {
      "text/plain": [
       "(51845, 19)"
      ]
     },
     "execution_count": 16,
     "metadata": {},
     "output_type": "execute_result"
    }
   ],
   "source": [
    "cadata = relevant_data(data, 'CA')\n",
    "cadata.shape"
   ]
  },
  {
   "cell_type": "code",
   "execution_count": 17,
   "metadata": {},
   "outputs": [
    {
     "data": {
      "text/html": [
       "<div>\n",
       "<style scoped>\n",
       "    .dataframe tbody tr th:only-of-type {\n",
       "        vertical-align: middle;\n",
       "    }\n",
       "\n",
       "    .dataframe tbody tr th {\n",
       "        vertical-align: top;\n",
       "    }\n",
       "\n",
       "    .dataframe thead th {\n",
       "        text-align: right;\n",
       "    }\n",
       "</style>\n",
       "<table border=\"1\" class=\"dataframe\">\n",
       "  <thead>\n",
       "    <tr style=\"text-align: right;\">\n",
       "      <th></th>\n",
       "      <th>issue date</th>\n",
       "      <th>valid date</th>\n",
       "      <th>valid time</th>\n",
       "      <th>time zone</th>\n",
       "      <th>record sequence</th>\n",
       "      <th>data type</th>\n",
       "      <th>primary</th>\n",
       "      <th>reporting area</th>\n",
       "      <th>state code</th>\n",
       "      <th>latitude</th>\n",
       "      <th>longitude</th>\n",
       "      <th>pollutant</th>\n",
       "      <th>AQI value</th>\n",
       "      <th>AQI category</th>\n",
       "      <th>action day</th>\n",
       "      <th>discussion</th>\n",
       "      <th>forecast source</th>\n",
       "      <th>urldate</th>\n",
       "      <th>categorical</th>\n",
       "    </tr>\n",
       "  </thead>\n",
       "  <tbody>\n",
       "    <tr>\n",
       "      <th>74</th>\n",
       "      <td>2017-05-31</td>\n",
       "      <td>2017-06-01</td>\n",
       "      <td>NaN</td>\n",
       "      <td>PDT</td>\n",
       "      <td>1</td>\n",
       "      <td>F</td>\n",
       "      <td>Y</td>\n",
       "      <td>Antelope Vly</td>\n",
       "      <td>CA</td>\n",
       "      <td>34.6694</td>\n",
       "      <td>-118.1305</td>\n",
       "      <td>OZONE</td>\n",
       "      <td>67.0</td>\n",
       "      <td>Moderate</td>\n",
       "      <td>False</td>\n",
       "      <td>NaN</td>\n",
       "      <td>Antelope Valley AQMD</td>\n",
       "      <td>1970-01-01 00:00:00.020170601</td>\n",
       "      <td>1</td>\n",
       "    </tr>\n",
       "    <tr>\n",
       "      <th>82</th>\n",
       "      <td>2017-06-01</td>\n",
       "      <td>2017-06-02</td>\n",
       "      <td>NaN</td>\n",
       "      <td>PDT</td>\n",
       "      <td>1</td>\n",
       "      <td>F</td>\n",
       "      <td>Y</td>\n",
       "      <td>Antelope Vly</td>\n",
       "      <td>CA</td>\n",
       "      <td>34.6694</td>\n",
       "      <td>-118.1305</td>\n",
       "      <td>OZONE</td>\n",
       "      <td>46.0</td>\n",
       "      <td>Good</td>\n",
       "      <td>False</td>\n",
       "      <td>NaN</td>\n",
       "      <td>Antelope Valley AQMD</td>\n",
       "      <td>1970-01-01 00:00:00.020170601</td>\n",
       "      <td>1</td>\n",
       "    </tr>\n",
       "    <tr>\n",
       "      <th>89</th>\n",
       "      <td>2017-05-31</td>\n",
       "      <td>2017-06-01</td>\n",
       "      <td>NaN</td>\n",
       "      <td>PDT</td>\n",
       "      <td>1</td>\n",
       "      <td>F</td>\n",
       "      <td>Y</td>\n",
       "      <td>Anza Vly</td>\n",
       "      <td>CA</td>\n",
       "      <td>33.5603</td>\n",
       "      <td>-116.7659</td>\n",
       "      <td>PM2.5</td>\n",
       "      <td>55.0</td>\n",
       "      <td>Moderate</td>\n",
       "      <td>False</td>\n",
       "      <td>NaN</td>\n",
       "      <td>South Coast AQMD</td>\n",
       "      <td>1970-01-01 00:00:00.020170601</td>\n",
       "      <td>1</td>\n",
       "    </tr>\n",
       "    <tr>\n",
       "      <th>96</th>\n",
       "      <td>2017-06-01</td>\n",
       "      <td>2017-06-02</td>\n",
       "      <td>NaN</td>\n",
       "      <td>PDT</td>\n",
       "      <td>1</td>\n",
       "      <td>F</td>\n",
       "      <td>Y</td>\n",
       "      <td>Anza Vly</td>\n",
       "      <td>CA</td>\n",
       "      <td>33.5603</td>\n",
       "      <td>-116.7659</td>\n",
       "      <td>PM2.5</td>\n",
       "      <td>57.0</td>\n",
       "      <td>Moderate</td>\n",
       "      <td>False</td>\n",
       "      <td>NaN</td>\n",
       "      <td>South Coast AQMD</td>\n",
       "      <td>1970-01-01 00:00:00.020170601</td>\n",
       "      <td>1</td>\n",
       "    </tr>\n",
       "    <tr>\n",
       "      <th>128</th>\n",
       "      <td>2017-06-01</td>\n",
       "      <td>2017-06-01</td>\n",
       "      <td>NaN</td>\n",
       "      <td>PDT</td>\n",
       "      <td>0</td>\n",
       "      <td>F</td>\n",
       "      <td>Y</td>\n",
       "      <td>Arden Arcade-Del Paso Manor</td>\n",
       "      <td>CA</td>\n",
       "      <td>38.6138</td>\n",
       "      <td>-121.3680</td>\n",
       "      <td>OZONE</td>\n",
       "      <td>51.0</td>\n",
       "      <td>Moderate</td>\n",
       "      <td>False</td>\n",
       "      <td>Thursday, light to moderate southwesterly wind...</td>\n",
       "      <td>Sacramento Metro. AQMD</td>\n",
       "      <td>1970-01-01 00:00:00.020170601</td>\n",
       "      <td>1</td>\n",
       "    </tr>\n",
       "  </tbody>\n",
       "</table>\n",
       "</div>"
      ],
      "text/plain": [
       "    issue date valid date valid time time zone  record sequence data type  \\\n",
       "74  2017-05-31 2017-06-01        NaN       PDT                1         F   \n",
       "82  2017-06-01 2017-06-02        NaN       PDT                1         F   \n",
       "89  2017-05-31 2017-06-01        NaN       PDT                1         F   \n",
       "96  2017-06-01 2017-06-02        NaN       PDT                1         F   \n",
       "128 2017-06-01 2017-06-01        NaN       PDT                0         F   \n",
       "\n",
       "    primary               reporting area state code  latitude  longitude  \\\n",
       "74        Y                 Antelope Vly         CA   34.6694  -118.1305   \n",
       "82        Y                 Antelope Vly         CA   34.6694  -118.1305   \n",
       "89        Y                     Anza Vly         CA   33.5603  -116.7659   \n",
       "96        Y                     Anza Vly         CA   33.5603  -116.7659   \n",
       "128       Y  Arden Arcade-Del Paso Manor         CA   38.6138  -121.3680   \n",
       "\n",
       "    pollutant  AQI value AQI category  action day  \\\n",
       "74      OZONE       67.0     Moderate       False   \n",
       "82      OZONE       46.0         Good       False   \n",
       "89      PM2.5       55.0     Moderate       False   \n",
       "96      PM2.5       57.0     Moderate       False   \n",
       "128     OZONE       51.0     Moderate       False   \n",
       "\n",
       "                                            discussion  \\\n",
       "74                                                 NaN   \n",
       "82                                                 NaN   \n",
       "89                                                 NaN   \n",
       "96                                                 NaN   \n",
       "128  Thursday, light to moderate southwesterly wind...   \n",
       "\n",
       "            forecast source                       urldate  categorical  \n",
       "74     Antelope Valley AQMD 1970-01-01 00:00:00.020170601            1  \n",
       "82     Antelope Valley AQMD 1970-01-01 00:00:00.020170601            1  \n",
       "89         South Coast AQMD 1970-01-01 00:00:00.020170601            1  \n",
       "96         South Coast AQMD 1970-01-01 00:00:00.020170601            1  \n",
       "128  Sacramento Metro. AQMD 1970-01-01 00:00:00.020170601            1  "
      ]
     },
     "execution_count": 17,
     "metadata": {},
     "output_type": "execute_result"
    }
   ],
   "source": [
    "#using EPA valid date forecast data --> more realistic as predictor of what to AQI to expect the next day\n",
    "cadata.head()"
   ]
  },
  {
   "cell_type": "code",
   "execution_count": 19,
   "metadata": {},
   "outputs": [
    {
     "data": {
      "text/plain": [
       "['Moderate',\n",
       " 'Good',\n",
       " 'Unhealthy for Sensitive Groups',\n",
       " 'Unhealthy',\n",
       " 'Very Unhealthy']"
      ]
     },
     "execution_count": 19,
     "metadata": {},
     "output_type": "execute_result"
    }
   ],
   "source": [
    "list(cadata['AQI category'].unique())"
   ]
  },
  {
   "cell_type": "code",
   "execution_count": 20,
   "metadata": {},
   "outputs": [],
   "source": [
    "#Create distance between reporting area lat / long and SF area lat / long\n",
    "    #convert to gdf to calculate\n",
    "\n",
    "def distance(datadf, state = 'CA', reparea = 'San Francisco'):\n",
    "    \n",
    "    #dropping state-specific reporting areas with null lat / long in CA\n",
    "    if state == 'CA':\n",
    "        #print(datadf.shape)\n",
    "        datadf = datadf[datadf['reporting area'] != 'TestA']\n",
    "        datadf = datadf[datadf['reporting area'] != 'TestC']\n",
    "        #print(datadf.shape)\n",
    "\n",
    "    #set up gdf\n",
    "    geometry = [Point(xy) for xy in zip(datadf['longitude'], datadf['latitude'])]\n",
    "    #print(len(geometry))\n",
    "\n",
    "    crs = {'init' :'epsg:4326'}\n",
    "    gdf = gpd.GeoDataFrame(datadf, crs = crs, geometry = geometry)\n",
    "    #print(gdf.shape)\n",
    "    #display(gdf.head(5))\n",
    "    \n",
    "    #set up distance\n",
    "    gdf['desiredarea_geometry'] = gdf[gdf['reporting area'] == reparea]['geometry'].values[0]\n",
    "    desiredarea_geometry = gdf[gdf['reporting area'] == reparea]['geometry'].values[0]\n",
    "    \n",
    "    distance = gdf['geometry'].distance(desiredarea_geometry)\n",
    "    gdf['distance'] = distance\n",
    "    datadf['distance'] = distance    #set in both geopandas and pandas dfs\n",
    "    #display(datadf.head(5))\n",
    "    \n",
    "    return(datadf)"
   ]
  },
  {
   "cell_type": "code",
   "execution_count": 21,
   "metadata": {},
   "outputs": [
    {
     "name": "stdout",
     "output_type": "stream",
     "text": [
      "(51841, 21) (51845, 19)\n",
      "(51841, 21)\n"
     ]
    }
   ],
   "source": [
    "print(distance(cadata).shape, cadata.shape)    #checking same data, with 2 new cols added\n",
    "\n",
    "#reset cadata to new df\n",
    "cadata = distance(cadata)\n",
    "print(cadata.shape)"
   ]
  },
  {
   "cell_type": "code",
   "execution_count": 22,
   "metadata": {},
   "outputs": [],
   "source": [
    "#Importing predictors to limit data to closest n reporting areas for faster + more relevant modeling\n",
    "    #distance also serves as a new feature\n",
    "    \n",
    "#Using distance as weight\n",
    "def predictors(n, datadf, reparea = 'San Francisco'):\n",
    "    #modified from Geo-spatial nb: sort by unique reporting area by distance\n",
    "        #maintain original datadf values\n",
    "    predictor_areas = datadf.drop_duplicates(['reporting area'], keep = 'first', inplace = False)    \n",
    "    #print(predictor_areas.shape)\n",
    "    \n",
    "    predictor_areas = predictor_areas.sort_values(['distance']).head(n+1)    \n",
    "    predictor_areas = predictor_areas[predictor_areas['reporting area'] != reparea]\n",
    "    #print(predictor_areas.shape)\n",
    "\n",
    "    #assign inverse weight based on distance in predictor df\n",
    "    weight = [i/sum(predictor_areas['distance']) for i in predictor_areas['distance']]\n",
    "    predictor_areas['weight'] = weight[::-1]\n",
    "    \n",
    "    return (predictor_areas)"
   ]
  },
  {
   "cell_type": "code",
   "execution_count": 23,
   "metadata": {},
   "outputs": [
    {
     "data": {
      "text/html": [
       "<div>\n",
       "<style scoped>\n",
       "    .dataframe tbody tr th:only-of-type {\n",
       "        vertical-align: middle;\n",
       "    }\n",
       "\n",
       "    .dataframe tbody tr th {\n",
       "        vertical-align: top;\n",
       "    }\n",
       "\n",
       "    .dataframe thead th {\n",
       "        text-align: right;\n",
       "    }\n",
       "</style>\n",
       "<table border=\"1\" class=\"dataframe\">\n",
       "  <thead>\n",
       "    <tr style=\"text-align: right;\">\n",
       "      <th></th>\n",
       "      <th>issue date</th>\n",
       "      <th>valid date</th>\n",
       "      <th>valid time</th>\n",
       "      <th>time zone</th>\n",
       "      <th>record sequence</th>\n",
       "      <th>data type</th>\n",
       "      <th>primary</th>\n",
       "      <th>reporting area</th>\n",
       "      <th>state code</th>\n",
       "      <th>latitude</th>\n",
       "      <th>...</th>\n",
       "      <th>AQI value</th>\n",
       "      <th>AQI category</th>\n",
       "      <th>action day</th>\n",
       "      <th>discussion</th>\n",
       "      <th>forecast source</th>\n",
       "      <th>urldate</th>\n",
       "      <th>categorical</th>\n",
       "      <th>geometry</th>\n",
       "      <th>distance</th>\n",
       "      <th>weight</th>\n",
       "    </tr>\n",
       "  </thead>\n",
       "  <tbody>\n",
       "    <tr>\n",
       "      <th>3142</th>\n",
       "      <td>2017-06-01</td>\n",
       "      <td>2017-06-01</td>\n",
       "      <td>NaN</td>\n",
       "      <td>PDT</td>\n",
       "      <td>0</td>\n",
       "      <td>F</td>\n",
       "      <td>Y</td>\n",
       "      <td>Oakland</td>\n",
       "      <td>CA</td>\n",
       "      <td>37.80</td>\n",
       "      <td>...</td>\n",
       "      <td>36.0</td>\n",
       "      <td>Good</td>\n",
       "      <td>False</td>\n",
       "      <td>NaN</td>\n",
       "      <td>San Francisco Bay Area AQMD</td>\n",
       "      <td>1970-01-01 00:00:00.020170601</td>\n",
       "      <td>1</td>\n",
       "      <td>POINT (-122.27 37.8)</td>\n",
       "      <td>0.167631</td>\n",
       "      <td>0.457669</td>\n",
       "    </tr>\n",
       "    <tr>\n",
       "      <th>3954</th>\n",
       "      <td>2017-06-01</td>\n",
       "      <td>2017-06-01</td>\n",
       "      <td>NaN</td>\n",
       "      <td>PDT</td>\n",
       "      <td>0</td>\n",
       "      <td>F</td>\n",
       "      <td>Y</td>\n",
       "      <td>San Rafael</td>\n",
       "      <td>CA</td>\n",
       "      <td>37.97</td>\n",
       "      <td>...</td>\n",
       "      <td>35.0</td>\n",
       "      <td>Good</td>\n",
       "      <td>False</td>\n",
       "      <td>NaN</td>\n",
       "      <td>San Francisco Bay Area AQMD</td>\n",
       "      <td>1970-01-01 00:00:00.020170601</td>\n",
       "      <td>1</td>\n",
       "      <td>POINT (-122.52 37.97)</td>\n",
       "      <td>0.237697</td>\n",
       "      <td>0.318041</td>\n",
       "    </tr>\n",
       "    <tr>\n",
       "      <th>3619</th>\n",
       "      <td>2017-06-01</td>\n",
       "      <td>2017-06-01</td>\n",
       "      <td>NaN</td>\n",
       "      <td>PDT</td>\n",
       "      <td>0</td>\n",
       "      <td>F</td>\n",
       "      <td>Y</td>\n",
       "      <td>Redwood City</td>\n",
       "      <td>CA</td>\n",
       "      <td>37.48</td>\n",
       "      <td>...</td>\n",
       "      <td>39.0</td>\n",
       "      <td>Good</td>\n",
       "      <td>False</td>\n",
       "      <td>NaN</td>\n",
       "      <td>San Francisco Bay Area AQMD</td>\n",
       "      <td>1970-01-01 00:00:00.020170601</td>\n",
       "      <td>1</td>\n",
       "      <td>POINT (-122.22 37.48)</td>\n",
       "      <td>0.342053</td>\n",
       "      <td>0.224291</td>\n",
       "    </tr>\n",
       "  </tbody>\n",
       "</table>\n",
       "<p>3 rows × 22 columns</p>\n",
       "</div>"
      ],
      "text/plain": [
       "     issue date valid date valid time time zone  record sequence data type  \\\n",
       "3142 2017-06-01 2017-06-01        NaN       PDT                0         F   \n",
       "3954 2017-06-01 2017-06-01        NaN       PDT                0         F   \n",
       "3619 2017-06-01 2017-06-01        NaN       PDT                0         F   \n",
       "\n",
       "     primary reporting area state code  latitude    ...     AQI value  \\\n",
       "3142       Y        Oakland         CA     37.80    ...          36.0   \n",
       "3954       Y     San Rafael         CA     37.97    ...          35.0   \n",
       "3619       Y   Redwood City         CA     37.48    ...          39.0   \n",
       "\n",
       "     AQI category  action day discussion              forecast source  \\\n",
       "3142         Good       False        NaN  San Francisco Bay Area AQMD   \n",
       "3954         Good       False        NaN  San Francisco Bay Area AQMD   \n",
       "3619         Good       False        NaN  San Francisco Bay Area AQMD   \n",
       "\n",
       "                           urldate categorical               geometry  \\\n",
       "3142 1970-01-01 00:00:00.020170601           1   POINT (-122.27 37.8)   \n",
       "3954 1970-01-01 00:00:00.020170601           1  POINT (-122.52 37.97)   \n",
       "3619 1970-01-01 00:00:00.020170601           1  POINT (-122.22 37.48)   \n",
       "\n",
       "      distance    weight  \n",
       "3142  0.167631  0.457669  \n",
       "3954  0.237697  0.318041  \n",
       "3619  0.342053  0.224291  \n",
       "\n",
       "[3 rows x 22 columns]"
      ]
     },
     "execution_count": 23,
     "metadata": {},
     "output_type": "execute_result"
    }
   ],
   "source": [
    "pred = predictors(3, cadata)\n",
    "pred"
   ]
  },
  {
   "cell_type": "code",
   "execution_count": 24,
   "metadata": {},
   "outputs": [
    {
     "data": {
      "text/plain": [
       "['Oakland', 'San Rafael', 'Redwood City']"
      ]
     },
     "execution_count": 24,
     "metadata": {},
     "output_type": "execute_result"
    }
   ],
   "source": [
    "areas = list(pred['reporting area'])\n",
    "areas"
   ]
  },
  {
   "cell_type": "code",
   "execution_count": 25,
   "metadata": {},
   "outputs": [
    {
     "name": "stdout",
     "output_type": "stream",
     "text": [
      "(1200, 21)\n",
      "['Good' 'Moderate' 'Unhealthy for Sensitive Groups']\n"
     ]
    },
    {
     "data": {
      "text/html": [
       "<div>\n",
       "<style scoped>\n",
       "    .dataframe tbody tr th:only-of-type {\n",
       "        vertical-align: middle;\n",
       "    }\n",
       "\n",
       "    .dataframe tbody tr th {\n",
       "        vertical-align: top;\n",
       "    }\n",
       "\n",
       "    .dataframe thead th {\n",
       "        text-align: right;\n",
       "    }\n",
       "</style>\n",
       "<table border=\"1\" class=\"dataframe\">\n",
       "  <thead>\n",
       "    <tr style=\"text-align: right;\">\n",
       "      <th></th>\n",
       "      <th>issue date</th>\n",
       "      <th>valid date</th>\n",
       "      <th>valid time</th>\n",
       "      <th>time zone</th>\n",
       "      <th>record sequence</th>\n",
       "      <th>data type</th>\n",
       "      <th>primary</th>\n",
       "      <th>reporting area</th>\n",
       "      <th>state code</th>\n",
       "      <th>latitude</th>\n",
       "      <th>...</th>\n",
       "      <th>pollutant</th>\n",
       "      <th>AQI value</th>\n",
       "      <th>AQI category</th>\n",
       "      <th>action day</th>\n",
       "      <th>discussion</th>\n",
       "      <th>forecast source</th>\n",
       "      <th>urldate</th>\n",
       "      <th>categorical</th>\n",
       "      <th>geometry</th>\n",
       "      <th>distance</th>\n",
       "    </tr>\n",
       "  </thead>\n",
       "  <tbody>\n",
       "    <tr>\n",
       "      <th>3142</th>\n",
       "      <td>2017-06-01</td>\n",
       "      <td>2017-06-01</td>\n",
       "      <td>NaN</td>\n",
       "      <td>PDT</td>\n",
       "      <td>0</td>\n",
       "      <td>F</td>\n",
       "      <td>Y</td>\n",
       "      <td>Oakland</td>\n",
       "      <td>CA</td>\n",
       "      <td>37.8</td>\n",
       "      <td>...</td>\n",
       "      <td>OZONE</td>\n",
       "      <td>36.0</td>\n",
       "      <td>Good</td>\n",
       "      <td>False</td>\n",
       "      <td>NaN</td>\n",
       "      <td>San Francisco Bay Area AQMD</td>\n",
       "      <td>1970-01-01 00:00:00.020170601</td>\n",
       "      <td>1</td>\n",
       "      <td>POINT (-122.27 37.8)</td>\n",
       "      <td>0.167631</td>\n",
       "    </tr>\n",
       "    <tr>\n",
       "      <th>3143</th>\n",
       "      <td>2017-06-01</td>\n",
       "      <td>2017-06-02</td>\n",
       "      <td>NaN</td>\n",
       "      <td>PDT</td>\n",
       "      <td>1</td>\n",
       "      <td>F</td>\n",
       "      <td>Y</td>\n",
       "      <td>Oakland</td>\n",
       "      <td>CA</td>\n",
       "      <td>37.8</td>\n",
       "      <td>...</td>\n",
       "      <td>OZONE</td>\n",
       "      <td>41.0</td>\n",
       "      <td>Good</td>\n",
       "      <td>False</td>\n",
       "      <td>NaN</td>\n",
       "      <td>San Francisco Bay Area AQMD</td>\n",
       "      <td>1970-01-01 00:00:00.020170601</td>\n",
       "      <td>1</td>\n",
       "      <td>POINT (-122.27 37.8)</td>\n",
       "      <td>0.167631</td>\n",
       "    </tr>\n",
       "    <tr>\n",
       "      <th>3144</th>\n",
       "      <td>2017-06-01</td>\n",
       "      <td>2017-06-03</td>\n",
       "      <td>NaN</td>\n",
       "      <td>PDT</td>\n",
       "      <td>2</td>\n",
       "      <td>F</td>\n",
       "      <td>Y</td>\n",
       "      <td>Oakland</td>\n",
       "      <td>CA</td>\n",
       "      <td>37.8</td>\n",
       "      <td>...</td>\n",
       "      <td>OZONE</td>\n",
       "      <td>NaN</td>\n",
       "      <td>Good</td>\n",
       "      <td>False</td>\n",
       "      <td>NaN</td>\n",
       "      <td>San Francisco Bay Area AQMD</td>\n",
       "      <td>1970-01-01 00:00:00.020170601</td>\n",
       "      <td>1</td>\n",
       "      <td>POINT (-122.27 37.8)</td>\n",
       "      <td>0.167631</td>\n",
       "    </tr>\n",
       "    <tr>\n",
       "      <th>3145</th>\n",
       "      <td>2017-06-01</td>\n",
       "      <td>2017-06-04</td>\n",
       "      <td>NaN</td>\n",
       "      <td>PDT</td>\n",
       "      <td>3</td>\n",
       "      <td>F</td>\n",
       "      <td>Y</td>\n",
       "      <td>Oakland</td>\n",
       "      <td>CA</td>\n",
       "      <td>37.8</td>\n",
       "      <td>...</td>\n",
       "      <td>OZONE</td>\n",
       "      <td>NaN</td>\n",
       "      <td>Good</td>\n",
       "      <td>False</td>\n",
       "      <td>NaN</td>\n",
       "      <td>San Francisco Bay Area AQMD</td>\n",
       "      <td>1970-01-01 00:00:00.020170601</td>\n",
       "      <td>1</td>\n",
       "      <td>POINT (-122.27 37.8)</td>\n",
       "      <td>0.167631</td>\n",
       "    </tr>\n",
       "    <tr>\n",
       "      <th>3146</th>\n",
       "      <td>2017-06-01</td>\n",
       "      <td>2017-06-05</td>\n",
       "      <td>NaN</td>\n",
       "      <td>PDT</td>\n",
       "      <td>4</td>\n",
       "      <td>F</td>\n",
       "      <td>Y</td>\n",
       "      <td>Oakland</td>\n",
       "      <td>CA</td>\n",
       "      <td>37.8</td>\n",
       "      <td>...</td>\n",
       "      <td>OZONE</td>\n",
       "      <td>NaN</td>\n",
       "      <td>Good</td>\n",
       "      <td>False</td>\n",
       "      <td>NaN</td>\n",
       "      <td>San Francisco Bay Area AQMD</td>\n",
       "      <td>1970-01-01 00:00:00.020170601</td>\n",
       "      <td>1</td>\n",
       "      <td>POINT (-122.27 37.8)</td>\n",
       "      <td>0.167631</td>\n",
       "    </tr>\n",
       "  </tbody>\n",
       "</table>\n",
       "<p>5 rows × 21 columns</p>\n",
       "</div>"
      ],
      "text/plain": [
       "     issue date valid date valid time time zone  record sequence data type  \\\n",
       "3142 2017-06-01 2017-06-01        NaN       PDT                0         F   \n",
       "3143 2017-06-01 2017-06-02        NaN       PDT                1         F   \n",
       "3144 2017-06-01 2017-06-03        NaN       PDT                2         F   \n",
       "3145 2017-06-01 2017-06-04        NaN       PDT                3         F   \n",
       "3146 2017-06-01 2017-06-05        NaN       PDT                4         F   \n",
       "\n",
       "     primary reporting area state code  latitude    ...     pollutant  \\\n",
       "3142       Y        Oakland         CA      37.8    ...         OZONE   \n",
       "3143       Y        Oakland         CA      37.8    ...         OZONE   \n",
       "3144       Y        Oakland         CA      37.8    ...         OZONE   \n",
       "3145       Y        Oakland         CA      37.8    ...         OZONE   \n",
       "3146       Y        Oakland         CA      37.8    ...         OZONE   \n",
       "\n",
       "     AQI value  AQI category action day  discussion  \\\n",
       "3142      36.0          Good      False         NaN   \n",
       "3143      41.0          Good      False         NaN   \n",
       "3144       NaN          Good      False         NaN   \n",
       "3145       NaN          Good      False         NaN   \n",
       "3146       NaN          Good      False         NaN   \n",
       "\n",
       "                  forecast source                       urldate categorical  \\\n",
       "3142  San Francisco Bay Area AQMD 1970-01-01 00:00:00.020170601           1   \n",
       "3143  San Francisco Bay Area AQMD 1970-01-01 00:00:00.020170601           1   \n",
       "3144  San Francisco Bay Area AQMD 1970-01-01 00:00:00.020170601           1   \n",
       "3145  San Francisco Bay Area AQMD 1970-01-01 00:00:00.020170601           1   \n",
       "3146  San Francisco Bay Area AQMD 1970-01-01 00:00:00.020170601           1   \n",
       "\n",
       "                  geometry  distance  \n",
       "3142  POINT (-122.27 37.8)  0.167631  \n",
       "3143  POINT (-122.27 37.8)  0.167631  \n",
       "3144  POINT (-122.27 37.8)  0.167631  \n",
       "3145  POINT (-122.27 37.8)  0.167631  \n",
       "3146  POINT (-122.27 37.8)  0.167631  \n",
       "\n",
       "[5 rows x 21 columns]"
      ]
     },
     "metadata": {},
     "output_type": "display_data"
    }
   ],
   "source": [
    "cadata3 = cadata[cadata['reporting area'].isin(areas)]\n",
    "print(cadata3.shape)\n",
    "print(cadata3['AQI category'].unique())\n",
    "display(cadata3.head())"
   ]
  },
  {
   "cell_type": "code",
   "execution_count": 26,
   "metadata": {},
   "outputs": [
    {
     "name": "stdout",
     "output_type": "stream",
     "text": [
      "(1200, 19) (1200,)\n"
     ]
    }
   ],
   "source": [
    "#1. Preprocessing\n",
    "    #a. Set X variable set and y target\n",
    "        #convert AQI category into ordinal values for y target\n",
    "    #b. Split data into train and test sets, stratifying for AQI category\n",
    "        #dataset is mostly descriptive so pulling out a few features\n",
    "        #takes in other reporting areas in CA to predict for SF\n",
    "\n",
    "#a.\n",
    "X = cadata3.drop(['AQI category', 'AQI value'], axis = 1)\n",
    "\n",
    "def aqicat(df):\n",
    "    aqicats = []\n",
    "    for cat in df['AQI category']:\n",
    "        #print(cat)\n",
    "        if cat == 'Good':\n",
    "            aqicats.append(0)\n",
    "        elif cat == 'Moderate':\n",
    "            aqicats.append(50)\n",
    "        elif cat == 'Unhealthy for Sensitive Groups':\n",
    "            aqicats.append(100)\n",
    "        elif cat == 'Unhealthy':\n",
    "            aqicats.append(150)\n",
    "        elif cat == 'Very Unhealthy':\n",
    "            aqicats.append(200)\n",
    "        elif cat == 'Hazardous':\n",
    "            aqicats.append(300)\n",
    "        else:\n",
    "            aqicats.append(404)\n",
    "    return (aqicats)\n",
    "\n",
    "cadata3['aqicat'] = aqicat(cadata3)\n",
    "y = cadata3['aqicat']\n",
    "\n",
    "print(X.shape, y.shape)"
   ]
  },
  {
   "cell_type": "code",
   "execution_count": 27,
   "metadata": {},
   "outputs": [
    {
     "name": "stdout",
     "output_type": "stream",
     "text": [
      "Train: (900, 19) (900,) \n",
      " Test: (300, 19) (300,)\n"
     ]
    }
   ],
   "source": [
    "#b. \n",
    "#tried stratifying y: returned error\n",
    "    #ValueError: The least populated class in y has only 1 member, which is too few. \n",
    "    #The minimum number of groups for any class cannot be less than 2.\n",
    "\n",
    "X_train, X_test, y_train, y_test = train_test_split(X, y, test_size = 0.25, random_state = 42)    \n",
    "\n",
    "print('Train:', X_train.shape, y_train.shape, '\\n', 'Test:', X_test.shape, y_test.shape)"
   ]
  },
  {
   "cell_type": "code",
   "execution_count": 28,
   "metadata": {},
   "outputs": [
    {
     "data": {
      "image/png": "[encoded data removed]",
      "text/plain": [
       "<Figure size 216x144 with 2 Axes>"
      ]
     },
     "metadata": {},
     "output_type": "display_data"
    }
   ],
   "source": [
    "#2. Determine existing features to use in model from X_train data\n",
    "    #look at correlation matrix\n",
    "\n",
    "fig = plt.figure(figsize=(3, 2))\n",
    "sns.heatmap(abs(X.corr()), cmap='magma_r');"
   ]
  },
  {
   "cell_type": "code",
   "execution_count": 29,
   "metadata": {},
   "outputs": [
    {
     "data": {
      "text/plain": [
       "['issue date',\n",
       " 'valid date',\n",
       " 'valid time',\n",
       " 'time zone',\n",
       " 'record sequence',\n",
       " 'data type',\n",
       " 'primary',\n",
       " 'reporting area',\n",
       " 'state code',\n",
       " 'latitude',\n",
       " 'longitude',\n",
       " 'pollutant',\n",
       " 'action day',\n",
       " 'discussion',\n",
       " 'forecast source',\n",
       " 'urldate',\n",
       " 'categorical',\n",
       " 'geometry',\n",
       " 'distance']"
      ]
     },
     "execution_count": 29,
     "metadata": {},
     "output_type": "execute_result"
    }
   ],
   "source": [
    "#try 4 existing features: primary, pollutant, action day, forecast source\n",
    "#print(X_train.shape)\n",
    "#display(X_train.head())\n",
    "list(X_train.columns)"
   ]
  },
  {
   "cell_type": "code",
   "execution_count": 36,
   "metadata": {},
   "outputs": [
    {
     "data": {
      "text/html": [
       "<div>\n",
       "<style scoped>\n",
       "    .dataframe tbody tr th:only-of-type {\n",
       "        vertical-align: middle;\n",
       "    }\n",
       "\n",
       "    .dataframe tbody tr th {\n",
       "        vertical-align: top;\n",
       "    }\n",
       "\n",
       "    .dataframe thead th {\n",
       "        text-align: right;\n",
       "    }\n",
       "</style>\n",
       "<table border=\"1\" class=\"dataframe\">\n",
       "  <thead>\n",
       "    <tr style=\"text-align: right;\">\n",
       "      <th></th>\n",
       "      <th>action day</th>\n",
       "      <th>primary_Y</th>\n",
       "      <th>pollutant_OZONE</th>\n",
       "      <th>pollutant_PM2.5</th>\n",
       "      <th>forecast source_San Francisco Bay Area AQMD</th>\n",
       "    </tr>\n",
       "  </thead>\n",
       "  <tbody>\n",
       "    <tr>\n",
       "      <th>1327968</th>\n",
       "      <td>False</td>\n",
       "      <td>1</td>\n",
       "      <td>1</td>\n",
       "      <td>0</td>\n",
       "      <td>1</td>\n",
       "    </tr>\n",
       "    <tr>\n",
       "      <th>1562515</th>\n",
       "      <td>False</td>\n",
       "      <td>1</td>\n",
       "      <td>1</td>\n",
       "      <td>0</td>\n",
       "      <td>1</td>\n",
       "    </tr>\n",
       "    <tr>\n",
       "      <th>361327</th>\n",
       "      <td>False</td>\n",
       "      <td>1</td>\n",
       "      <td>0</td>\n",
       "      <td>1</td>\n",
       "      <td>1</td>\n",
       "    </tr>\n",
       "    <tr>\n",
       "      <th>1933408</th>\n",
       "      <td>False</td>\n",
       "      <td>1</td>\n",
       "      <td>1</td>\n",
       "      <td>0</td>\n",
       "      <td>1</td>\n",
       "    </tr>\n",
       "    <tr>\n",
       "      <th>1074102</th>\n",
       "      <td>False</td>\n",
       "      <td>1</td>\n",
       "      <td>0</td>\n",
       "      <td>1</td>\n",
       "      <td>1</td>\n",
       "    </tr>\n",
       "  </tbody>\n",
       "</table>\n",
       "</div>"
      ],
      "text/plain": [
       "         action day  primary_Y  pollutant_OZONE  pollutant_PM2.5  \\\n",
       "1327968       False          1                1                0   \n",
       "1562515       False          1                1                0   \n",
       "361327        False          1                0                1   \n",
       "1933408       False          1                1                0   \n",
       "1074102       False          1                0                1   \n",
       "\n",
       "         forecast source_San Francisco Bay Area AQMD  \n",
       "1327968                                            1  \n",
       "1562515                                            1  \n",
       "361327                                             1  \n",
       "1933408                                            1  \n",
       "1074102                                            1  "
      ]
     },
     "execution_count": 36,
     "metadata": {},
     "output_type": "execute_result"
    }
   ],
   "source": [
    "#dummy categorical columns\n",
    "X_train_existing = pd.get_dummies(X_train[['primary', 'pollutant', 'action day', 'forecast source']], drop_first = False)\n",
    "\n",
    "X_train_existing.head()"
   ]
  },
  {
   "cell_type": "code",
   "execution_count": 37,
   "metadata": {},
   "outputs": [],
   "source": [
    "#3. Determine new features to use in model from X_train data\n",
    "    #categorical features\n",
    "\n",
    "#create 3 new features: Season, Red flag text in discussion, categ: if Reporting area is NorCal or SoCal\n",
    "\n",
    "#Season\n",
    "\n",
    "def season(df):\n",
    "    seasons = []\n",
    "    for month in df['valid date'].dt.month:\n",
    "        if month in [12, 1, 2]:\n",
    "            seasons.append('Winter')\n",
    "        elif month in [3, 4, 5]:\n",
    "            seasons.append('Spring')\n",
    "        elif month in [6, 7, 8]:\n",
    "            seasons.append('Summer')\n",
    "        elif month in [9, 10, 11]:\n",
    "            seasons.append('Fall')\n",
    "        else:\n",
    "            seasons.append(np.NaN)\n",
    "    return (seasons)\n",
    "\n",
    "X_train['season'] = season(X_train)"
   ]
  },
  {
   "cell_type": "code",
   "execution_count": 38,
   "metadata": {},
   "outputs": [
    {
     "data": {
      "text/plain": [
       "1327968    Spring\n",
       "1562515    Spring\n",
       "361327     Summer\n",
       "1933408    Summer\n",
       "1074102    Winter\n",
       "Name: season, dtype: object"
      ]
     },
     "execution_count": 38,
     "metadata": {},
     "output_type": "execute_result"
    }
   ],
   "source": [
    "X_train['season'].head()"
   ]
  },
  {
   "cell_type": "code",
   "execution_count": 204,
   "metadata": {},
   "outputs": [],
   "source": [
    "#Next steps: NLP - did not include in new feature set below\n",
    "\n",
    "#Discussion text: Fire\n",
    "#for i, text in enumerate(list(X_train[X_train['discussion'].isna() == False]['discussion'].values)):\n",
    "    #print(i)\n",
    "    #print(list(X_train[X_train['discussion'].isna() == False]['discussion'].values)[i])\n",
    "    #print('\\n')\n"
   ]
  },
  {
   "cell_type": "code",
   "execution_count": 39,
   "metadata": {},
   "outputs": [],
   "source": [
    "#RepArea: NorCal v SoCal\n",
    "    #dividing line lat/long = (36.4, -119.4)\n",
    "    #sources\n",
    "        #https://en.wikipedia.org/wiki/Southern_California#/media/File:Southern_California_counties_in_red.png\n",
    "        #https://lifehacker.com/5943091/answer-northern-vs-southern-california\n",
    "\n",
    "\n",
    "def divide(df):\n",
    "    divider = []\n",
    "    for i, index in enumerate(df.index):\n",
    "        #print(i, index)\n",
    "        divider_lat = 36.4\n",
    "        lat = df.iloc[i:i+1,:]['latitude'].values[0]\n",
    "        if lat > divider_lat:\n",
    "            divider.append('Norcal')\n",
    "        elif lat < divider_lat:\n",
    "            divider.append('Socal')\n",
    "        elif lat == divider_lat:\n",
    "            divider.append('Neither')\n",
    "        else:\n",
    "            divider.append(np.NaN)\n",
    "    return (divider)\n",
    "\n",
    "X_train['divider'] = divide(X_train)"
   ]
  },
  {
   "cell_type": "code",
   "execution_count": 40,
   "metadata": {},
   "outputs": [
    {
     "data": {
      "text/plain": [
       "1327968    Norcal\n",
       "1562515    Norcal\n",
       "361327     Norcal\n",
       "1933408    Norcal\n",
       "1074102    Norcal\n",
       "Name: divider, dtype: object"
      ]
     },
     "execution_count": 40,
     "metadata": {},
     "output_type": "execute_result"
    }
   ],
   "source": [
    "X_train['divider'].head()"
   ]
  },
  {
   "cell_type": "code",
   "execution_count": 41,
   "metadata": {},
   "outputs": [
    {
     "data": {
      "text/html": [
       "<div>\n",
       "<style scoped>\n",
       "    .dataframe tbody tr th:only-of-type {\n",
       "        vertical-align: middle;\n",
       "    }\n",
       "\n",
       "    .dataframe tbody tr th {\n",
       "        vertical-align: top;\n",
       "    }\n",
       "\n",
       "    .dataframe thead th {\n",
       "        text-align: right;\n",
       "    }\n",
       "</style>\n",
       "<table border=\"1\" class=\"dataframe\">\n",
       "  <thead>\n",
       "    <tr style=\"text-align: right;\">\n",
       "      <th></th>\n",
       "      <th>season_Fall</th>\n",
       "      <th>season_Spring</th>\n",
       "      <th>season_Summer</th>\n",
       "      <th>season_Winter</th>\n",
       "      <th>divider_Norcal</th>\n",
       "    </tr>\n",
       "  </thead>\n",
       "  <tbody>\n",
       "    <tr>\n",
       "      <th>1327968</th>\n",
       "      <td>0</td>\n",
       "      <td>1</td>\n",
       "      <td>0</td>\n",
       "      <td>0</td>\n",
       "      <td>1</td>\n",
       "    </tr>\n",
       "    <tr>\n",
       "      <th>1562515</th>\n",
       "      <td>0</td>\n",
       "      <td>1</td>\n",
       "      <td>0</td>\n",
       "      <td>0</td>\n",
       "      <td>1</td>\n",
       "    </tr>\n",
       "    <tr>\n",
       "      <th>361327</th>\n",
       "      <td>0</td>\n",
       "      <td>0</td>\n",
       "      <td>1</td>\n",
       "      <td>0</td>\n",
       "      <td>1</td>\n",
       "    </tr>\n",
       "    <tr>\n",
       "      <th>1933408</th>\n",
       "      <td>0</td>\n",
       "      <td>0</td>\n",
       "      <td>1</td>\n",
       "      <td>0</td>\n",
       "      <td>1</td>\n",
       "    </tr>\n",
       "    <tr>\n",
       "      <th>1074102</th>\n",
       "      <td>0</td>\n",
       "      <td>0</td>\n",
       "      <td>0</td>\n",
       "      <td>1</td>\n",
       "      <td>1</td>\n",
       "    </tr>\n",
       "  </tbody>\n",
       "</table>\n",
       "</div>"
      ],
      "text/plain": [
       "         season_Fall  season_Spring  season_Summer  season_Winter  \\\n",
       "1327968            0              1              0              0   \n",
       "1562515            0              1              0              0   \n",
       "361327             0              0              1              0   \n",
       "1933408            0              0              1              0   \n",
       "1074102            0              0              0              1   \n",
       "\n",
       "         divider_Norcal  \n",
       "1327968               1  \n",
       "1562515               1  \n",
       "361327                1  \n",
       "1933408               1  \n",
       "1074102               1  "
      ]
     },
     "execution_count": 41,
     "metadata": {},
     "output_type": "execute_result"
    }
   ],
   "source": [
    "#dummy new categorical columns\n",
    "X_train_new = pd.get_dummies(X_train[['season', 'divider']], drop_first = False)\n",
    "X_train_new.head()"
   ]
  },
  {
   "cell_type": "code",
   "execution_count": 42,
   "metadata": {},
   "outputs": [],
   "source": [
    "#join existing and new X_train dfs together\n",
    "X_train = pd.concat([X_train_existing, X_train_new], axis = 1)"
   ]
  },
  {
   "cell_type": "code",
   "execution_count": 43,
   "metadata": {},
   "outputs": [
    {
     "data": {
      "text/html": [
       "<div>\n",
       "<style scoped>\n",
       "    .dataframe tbody tr th:only-of-type {\n",
       "        vertical-align: middle;\n",
       "    }\n",
       "\n",
       "    .dataframe tbody tr th {\n",
       "        vertical-align: top;\n",
       "    }\n",
       "\n",
       "    .dataframe thead th {\n",
       "        text-align: right;\n",
       "    }\n",
       "</style>\n",
       "<table border=\"1\" class=\"dataframe\">\n",
       "  <thead>\n",
       "    <tr style=\"text-align: right;\">\n",
       "      <th></th>\n",
       "      <th>action day</th>\n",
       "      <th>primary_Y</th>\n",
       "      <th>pollutant_OZONE</th>\n",
       "      <th>pollutant_PM2.5</th>\n",
       "      <th>forecast source_San Francisco Bay Area AQMD</th>\n",
       "    </tr>\n",
       "  </thead>\n",
       "  <tbody>\n",
       "    <tr>\n",
       "      <th>1908491</th>\n",
       "      <td>False</td>\n",
       "      <td>1</td>\n",
       "      <td>1</td>\n",
       "      <td>0</td>\n",
       "      <td>1</td>\n",
       "    </tr>\n",
       "    <tr>\n",
       "      <th>1360507</th>\n",
       "      <td>False</td>\n",
       "      <td>1</td>\n",
       "      <td>1</td>\n",
       "      <td>0</td>\n",
       "      <td>1</td>\n",
       "    </tr>\n",
       "    <tr>\n",
       "      <th>144371</th>\n",
       "      <td>False</td>\n",
       "      <td>1</td>\n",
       "      <td>1</td>\n",
       "      <td>0</td>\n",
       "      <td>1</td>\n",
       "    </tr>\n",
       "    <tr>\n",
       "      <th>734035</th>\n",
       "      <td>False</td>\n",
       "      <td>1</td>\n",
       "      <td>0</td>\n",
       "      <td>1</td>\n",
       "      <td>1</td>\n",
       "    </tr>\n",
       "    <tr>\n",
       "      <th>73487</th>\n",
       "      <td>False</td>\n",
       "      <td>1</td>\n",
       "      <td>1</td>\n",
       "      <td>0</td>\n",
       "      <td>1</td>\n",
       "    </tr>\n",
       "  </tbody>\n",
       "</table>\n",
       "</div>"
      ],
      "text/plain": [
       "         action day  primary_Y  pollutant_OZONE  pollutant_PM2.5  \\\n",
       "1908491       False          1                1                0   \n",
       "1360507       False          1                1                0   \n",
       "144371        False          1                1                0   \n",
       "734035        False          1                0                1   \n",
       "73487         False          1                1                0   \n",
       "\n",
       "         forecast source_San Francisco Bay Area AQMD  \n",
       "1908491                                            1  \n",
       "1360507                                            1  \n",
       "144371                                             1  \n",
       "734035                                             1  \n",
       "73487                                              1  "
      ]
     },
     "execution_count": 43,
     "metadata": {},
     "output_type": "execute_result"
    }
   ],
   "source": [
    "#4. Perform similar transformations on X_test data\n",
    "#existing variables\n",
    "X_test_existing = pd.get_dummies(X_test[['primary', 'pollutant', 'action day', 'forecast source']], drop_first = False)\n",
    "X_test_existing.head()"
   ]
  },
  {
   "cell_type": "code",
   "execution_count": 44,
   "metadata": {},
   "outputs": [
    {
     "data": {
      "text/html": [
       "<div>\n",
       "<style scoped>\n",
       "    .dataframe tbody tr th:only-of-type {\n",
       "        vertical-align: middle;\n",
       "    }\n",
       "\n",
       "    .dataframe tbody tr th {\n",
       "        vertical-align: top;\n",
       "    }\n",
       "\n",
       "    .dataframe thead th {\n",
       "        text-align: right;\n",
       "    }\n",
       "</style>\n",
       "<table border=\"1\" class=\"dataframe\">\n",
       "  <thead>\n",
       "    <tr style=\"text-align: right;\">\n",
       "      <th></th>\n",
       "      <th>season_Fall</th>\n",
       "      <th>season_Spring</th>\n",
       "      <th>season_Summer</th>\n",
       "      <th>season_Winter</th>\n",
       "      <th>divider_Norcal</th>\n",
       "    </tr>\n",
       "  </thead>\n",
       "  <tbody>\n",
       "    <tr>\n",
       "      <th>1908491</th>\n",
       "      <td>0</td>\n",
       "      <td>0</td>\n",
       "      <td>1</td>\n",
       "      <td>0</td>\n",
       "      <td>1</td>\n",
       "    </tr>\n",
       "    <tr>\n",
       "      <th>1360507</th>\n",
       "      <td>0</td>\n",
       "      <td>1</td>\n",
       "      <td>0</td>\n",
       "      <td>0</td>\n",
       "      <td>1</td>\n",
       "    </tr>\n",
       "    <tr>\n",
       "      <th>144371</th>\n",
       "      <td>0</td>\n",
       "      <td>0</td>\n",
       "      <td>1</td>\n",
       "      <td>0</td>\n",
       "      <td>1</td>\n",
       "    </tr>\n",
       "    <tr>\n",
       "      <th>734035</th>\n",
       "      <td>1</td>\n",
       "      <td>0</td>\n",
       "      <td>0</td>\n",
       "      <td>0</td>\n",
       "      <td>1</td>\n",
       "    </tr>\n",
       "    <tr>\n",
       "      <th>73487</th>\n",
       "      <td>0</td>\n",
       "      <td>0</td>\n",
       "      <td>1</td>\n",
       "      <td>0</td>\n",
       "      <td>1</td>\n",
       "    </tr>\n",
       "  </tbody>\n",
       "</table>\n",
       "</div>"
      ],
      "text/plain": [
       "         season_Fall  season_Spring  season_Summer  season_Winter  \\\n",
       "1908491            0              0              1              0   \n",
       "1360507            0              1              0              0   \n",
       "144371             0              0              1              0   \n",
       "734035             1              0              0              0   \n",
       "73487              0              0              1              0   \n",
       "\n",
       "         divider_Norcal  \n",
       "1908491               1  \n",
       "1360507               1  \n",
       "144371                1  \n",
       "734035                1  \n",
       "73487                 1  "
      ]
     },
     "execution_count": 44,
     "metadata": {},
     "output_type": "execute_result"
    }
   ],
   "source": [
    "#new variables\n",
    "X_test['season'] = season(X_test)\n",
    "X_test['divider'] = divide(X_test)\n",
    "X_test_new = pd.get_dummies(X_test[['season', 'divider']], drop_first = False)\n",
    "X_test_new.head()"
   ]
  },
  {
   "cell_type": "code",
   "execution_count": 45,
   "metadata": {},
   "outputs": [
    {
     "data": {
      "text/html": [
       "<div>\n",
       "<style scoped>\n",
       "    .dataframe tbody tr th:only-of-type {\n",
       "        vertical-align: middle;\n",
       "    }\n",
       "\n",
       "    .dataframe tbody tr th {\n",
       "        vertical-align: top;\n",
       "    }\n",
       "\n",
       "    .dataframe thead th {\n",
       "        text-align: right;\n",
       "    }\n",
       "</style>\n",
       "<table border=\"1\" class=\"dataframe\">\n",
       "  <thead>\n",
       "    <tr style=\"text-align: right;\">\n",
       "      <th></th>\n",
       "      <th>action day</th>\n",
       "      <th>primary_Y</th>\n",
       "      <th>pollutant_OZONE</th>\n",
       "      <th>pollutant_PM2.5</th>\n",
       "      <th>forecast source_San Francisco Bay Area AQMD</th>\n",
       "      <th>season_Fall</th>\n",
       "      <th>season_Spring</th>\n",
       "      <th>season_Summer</th>\n",
       "      <th>season_Winter</th>\n",
       "      <th>divider_Norcal</th>\n",
       "    </tr>\n",
       "  </thead>\n",
       "  <tbody>\n",
       "    <tr>\n",
       "      <th>1908491</th>\n",
       "      <td>False</td>\n",
       "      <td>1</td>\n",
       "      <td>1</td>\n",
       "      <td>0</td>\n",
       "      <td>1</td>\n",
       "      <td>0</td>\n",
       "      <td>0</td>\n",
       "      <td>1</td>\n",
       "      <td>0</td>\n",
       "      <td>1</td>\n",
       "    </tr>\n",
       "    <tr>\n",
       "      <th>1360507</th>\n",
       "      <td>False</td>\n",
       "      <td>1</td>\n",
       "      <td>1</td>\n",
       "      <td>0</td>\n",
       "      <td>1</td>\n",
       "      <td>0</td>\n",
       "      <td>1</td>\n",
       "      <td>0</td>\n",
       "      <td>0</td>\n",
       "      <td>1</td>\n",
       "    </tr>\n",
       "    <tr>\n",
       "      <th>144371</th>\n",
       "      <td>False</td>\n",
       "      <td>1</td>\n",
       "      <td>1</td>\n",
       "      <td>0</td>\n",
       "      <td>1</td>\n",
       "      <td>0</td>\n",
       "      <td>0</td>\n",
       "      <td>1</td>\n",
       "      <td>0</td>\n",
       "      <td>1</td>\n",
       "    </tr>\n",
       "    <tr>\n",
       "      <th>734035</th>\n",
       "      <td>False</td>\n",
       "      <td>1</td>\n",
       "      <td>0</td>\n",
       "      <td>1</td>\n",
       "      <td>1</td>\n",
       "      <td>1</td>\n",
       "      <td>0</td>\n",
       "      <td>0</td>\n",
       "      <td>0</td>\n",
       "      <td>1</td>\n",
       "    </tr>\n",
       "    <tr>\n",
       "      <th>73487</th>\n",
       "      <td>False</td>\n",
       "      <td>1</td>\n",
       "      <td>1</td>\n",
       "      <td>0</td>\n",
       "      <td>1</td>\n",
       "      <td>0</td>\n",
       "      <td>0</td>\n",
       "      <td>1</td>\n",
       "      <td>0</td>\n",
       "      <td>1</td>\n",
       "    </tr>\n",
       "  </tbody>\n",
       "</table>\n",
       "</div>"
      ],
      "text/plain": [
       "         action day  primary_Y  pollutant_OZONE  pollutant_PM2.5  \\\n",
       "1908491       False          1                1                0   \n",
       "1360507       False          1                1                0   \n",
       "144371        False          1                1                0   \n",
       "734035        False          1                0                1   \n",
       "73487         False          1                1                0   \n",
       "\n",
       "         forecast source_San Francisco Bay Area AQMD  season_Fall  \\\n",
       "1908491                                            1            0   \n",
       "1360507                                            1            0   \n",
       "144371                                             1            0   \n",
       "734035                                             1            1   \n",
       "73487                                              1            0   \n",
       "\n",
       "         season_Spring  season_Summer  season_Winter  divider_Norcal  \n",
       "1908491              0              1              0               1  \n",
       "1360507              1              0              0               1  \n",
       "144371               0              1              0               1  \n",
       "734035               0              0              0               1  \n",
       "73487                0              1              0               1  "
      ]
     },
     "execution_count": 45,
     "metadata": {},
     "output_type": "execute_result"
    }
   ],
   "source": [
    "#join existing and new X_test dfs together\n",
    "X_test = pd.concat([X_test_existing, X_test_new], axis = 1)\n",
    "X_test.head()"
   ]
  },
  {
   "cell_type": "code",
   "execution_count": 46,
   "metadata": {},
   "outputs": [
    {
     "name": "stdout",
     "output_type": "stream",
     "text": [
      "(900, 10) (300, 10)\n"
     ]
    }
   ],
   "source": [
    "print(X_train.shape, X_test.shape)"
   ]
  },
  {
   "cell_type": "code",
   "execution_count": 47,
   "metadata": {},
   "outputs": [
    {
     "name": "stdout",
     "output_type": "stream",
     "text": [
      "(900, 10) (300, 10)\n"
     ]
    }
   ],
   "source": [
    "#align train and test sets: more applicable to larger n comparisons\n",
    "X_train, X_test = X_train.align(X_test, join='outer', axis=1, fill_value=0)\n",
    "\n",
    "print(X_train.shape, X_test.shape)"
   ]
  },
  {
   "cell_type": "code",
   "execution_count": 48,
   "metadata": {},
   "outputs": [],
   "source": [
    "#5. Use pipeline to prepare data\n",
    "    #a. Scale numeric data --> Q: is this necessary given categorical dummy features?\n",
    "    #b. Instantiate and fit logreg model\n",
    "    #c. GridSearchCV for best params, cross-val\n",
    "    #d. Regularize with Ridge or Lasso function\n",
    "\n",
    "pipe = Pipeline([\n",
    "    ('ss', StandardScaler()),\n",
    "    ('lr', LogisticRegression(random_state=42))\n",
    "])"
   ]
  },
  {
   "cell_type": "code",
   "execution_count": 52,
   "metadata": {},
   "outputs": [
    {
     "name": "stdout",
     "output_type": "stream",
     "text": [
      "Train model fit:  0.7111111111111111\n",
      "Test model fit:  0.6766666666666666\n",
      "GS best Accuracy score: 0.7066666666666667\n",
      "GS best params: {'lr__C': 1.0, 'lr__penalty': 'l1'}\n",
      "\n"
     ]
    }
   ],
   "source": [
    "params = {'lr__penalty': ['l1','l2'],\n",
    "          'lr__C': np.linspace(1, 10)\n",
    "         }\n",
    "\n",
    "gs = GridSearchCV(pipe, param_grid=params, cv=5, scoring='accuracy')\n",
    "gs.fit(X_train, y_train)\n",
    "\n",
    "print('Train model fit: ', gs.score(X_train, y_train))\n",
    "print('Test model fit: ', gs.score(X_test, y_test))\n",
    "\n",
    "print('GS best Accuracy score:', gs.best_score_)\n",
    "print('GS best params:', gs.best_params_)\n",
    "print('')"
   ]
  },
  {
   "cell_type": "code",
   "execution_count": 45,
   "metadata": {},
   "outputs": [
    {
     "name": "stdout",
     "output_type": "stream",
     "text": [
      "Accuracy_score\n"
     ]
    },
    {
     "name": "stderr",
     "output_type": "stream",
     "text": [
      "/Users/chelen/anaconda3/envs/dsi/lib/python3.6/site-packages/sklearn/model_selection/_split.py:605: Warning: The least populated class in y has only 3 members, which is too few. The minimum number of members in any class cannot be less than n_splits=5.\n",
      "  % (min_groups, self.n_splits)), Warning)\n"
     ]
    },
    {
     "name": "stdout",
     "output_type": "stream",
     "text": [
      "Train model fit:  0.7115165336374002\n",
      "Test model fit:  0.6723549488054608\n",
      "GS best Accuracy_score : 0.7115165336374002\n",
      "GS best params: {'lr__C': 1.0, 'lr__penalty': 'l1'}\n",
      "\n",
      "\n",
      "Explained_variance_score\n"
     ]
    },
    {
     "name": "stderr",
     "output_type": "stream",
     "text": [
      "/Users/chelen/anaconda3/envs/dsi/lib/python3.6/site-packages/sklearn/model_selection/_split.py:605: Warning: The least populated class in y has only 3 members, which is too few. The minimum number of members in any class cannot be less than n_splits=5.\n",
      "  % (min_groups, self.n_splits)), Warning)\n"
     ]
    },
    {
     "name": "stdout",
     "output_type": "stream",
     "text": [
      "Train model fit:  -0.10897477256597177\n",
      "Test model fit:  -0.13842355845529886\n",
      "GS best Explained_variance_score : -0.10360198371629352\n",
      "GS best params: {'lr__C': 1.0, 'lr__penalty': 'l1'}\n",
      "\n",
      "\n",
      "Mean_absolute_error\n"
     ]
    },
    {
     "name": "stderr",
     "output_type": "stream",
     "text": [
      "/Users/chelen/anaconda3/envs/dsi/lib/python3.6/site-packages/sklearn/model_selection/_split.py:605: Warning: The least populated class in y has only 3 members, which is too few. The minimum number of members in any class cannot be less than n_splits=5.\n",
      "  % (min_groups, self.n_splits)), Warning)\n"
     ]
    },
    {
     "name": "stdout",
     "output_type": "stream",
     "text": [
      "Train model fit:  -14.424173318129988\n",
      "Test model fit:  -16.38225255972696\n",
      "GS best Mean_absolute_error : -14.424173318129988\n",
      "GS best params: {'lr__C': 1.0, 'lr__penalty': 'l1'}\n",
      "\n",
      "\n",
      "R2_score\n"
     ]
    },
    {
     "name": "stderr",
     "output_type": "stream",
     "text": [
      "/Users/chelen/anaconda3/envs/dsi/lib/python3.6/site-packages/sklearn/model_selection/_split.py:605: Warning: The least populated class in y has only 3 members, which is too few. The minimum number of members in any class cannot be less than n_splits=5.\n",
      "  % (min_groups, self.n_splits)), Warning)\n"
     ]
    },
    {
     "name": "stdout",
     "output_type": "stream",
     "text": [
      "Train model fit:  -0.19298556896143837\n",
      "Test model fit:  -0.2399929465702697\n",
      "GS best R2_score : -0.1906248904062757\n",
      "GS best params: {'lr__C': 1.0, 'lr__penalty': 'l1'}\n",
      "\n",
      "\n"
     ]
    }
   ],
   "source": [
    "#multiple scoring methods\n",
    "scoring = {'Accuracy_score': 'accuracy',\n",
    "           #does not apply to multilabel classification: 'Average_precision_score': 'average_precision', \n",
    "           #does not apply to multilabel classification: 'F1_samples_score': 'f1_samples', \n",
    "           'Explained_variance_score': 'explained_variance', #\n",
    "           'Mean_absolute_error': 'neg_mean_absolute_error',\n",
    "           'R2_score': 'r2'\n",
    "          }\n",
    "\n",
    "for score in scoring.keys():\n",
    "    print(score)\n",
    "    gs = GridSearchCV(pipe, param_grid=params, cv=5, scoring=scoring[score])\n",
    "    gs.fit(X_train, y_train)\n",
    "\n",
    "    print('Train model fit: ', gs.score(X_train, y_train))\n",
    "    print('Test model fit: ', gs.score(X_test, y_test))\n",
    "    \n",
    "    print('GS best '+str(score)+' :', gs.best_score_)\n",
    "    print('GS best params:', gs.best_params_)\n",
    "    print('\\n')"
   ]
  },
  {
   "cell_type": "code",
   "execution_count": 106,
   "metadata": {},
   "outputs": [
    {
     "name": "stdout",
     "output_type": "stream",
     "text": [
      "Classification_report\n",
      "Train:              precision    recall  f1-score   support\n",
      "\n",
      "          0       0.84      0.65      0.73       319\n",
      "         50       0.66      0.85      0.74       261\n",
      "        100       0.00      0.00      0.00         5\n",
      "\n",
      "avg / total       0.75      0.74      0.73       585\n",
      "\n",
      "Test:              precision    recall  f1-score   support\n",
      "\n",
      "          0       0.77      0.56      0.65       104\n",
      "         50       0.60      0.81      0.69        89\n",
      "        100       0.00      0.00      0.00         2\n",
      "\n",
      "avg / total       0.69      0.67      0.66       195\n",
      "\n",
      "Hamming_loss\n",
      "Train: 0.26495726495726496\n",
      "Test: 0.3333333333333333\n"
     ]
    },
    {
     "name": "stderr",
     "output_type": "stream",
     "text": [
      "/Users/chelen/anaconda3/envs/dsi/lib/python3.6/site-packages/sklearn/metrics/classification.py:1135: UndefinedMetricWarning: Precision and F-score are ill-defined and being set to 0.0 in labels with no predicted samples.\n",
      "  'precision', 'predicted', average, warn_for)\n"
     ]
    }
   ],
   "source": [
    "#additional metrics: classification_report, hamming_loss\n",
    "\n",
    "pred_train = gs.predict(X_train)\n",
    "pred_test = gs.predict(X_test)\n",
    "\n",
    "print('Classification_report')    #returns text summary of precision, recall, F1 score for each class\n",
    "print('Train:', classification_report(y_train, pred_train))\n",
    "print('Test:', classification_report(y_test, pred_test))\n",
    "\n",
    "print('Hamming_loss')    #returns the fraction of incorrectly predicted labels\n",
    "print('Train:', hamming_loss(y_train, pred_train))\n",
    "print('Test:', hamming_loss(y_test, pred_test))"
   ]
  },
  {
   "cell_type": "code",
   "execution_count": 121,
   "metadata": {},
   "outputs": [
    {
     "name": "stdout",
     "output_type": "stream",
     "text": [
      "Train ROC AUC: 0.0029578641801548677\n",
      "Train confusion matrix:\n"
     ]
    },
    {
     "data": {
      "image/png": "[encoded data removed]",
      "text/plain": [
       "<Figure size 432x288 with 2 Axes>"
      ]
     },
     "metadata": {},
     "output_type": "display_data"
    }
   ],
   "source": [
    "#6. Evaluation pt1\n",
    "    #confusion matrix\n",
    "\n",
    "print('Train ROC AUC:', gs.score(X_train, y_train))\n",
    "print('Train confusion matrix:')\n",
    "\n",
    "sns.heatmap(confusion_matrix(y_train, pred_train), annot=True, cmap='magma_r', \n",
    "            xticklabels=['Pred AQI cat 0', 'Pred AQI cat 50', 'Pred AQI cat 100'], \n",
    "            yticklabels=['True AQI cat 0', 'True AQI cat 50', 'True AQI cat 100']);\n"
   ]
  },
  {
   "cell_type": "code",
   "execution_count": 122,
   "metadata": {},
   "outputs": [
    {
     "name": "stdout",
     "output_type": "stream",
     "text": [
      "Test ROC AUC: -0.23465809468147336\n",
      "Test confusion matrix:\n"
     ]
    },
    {
     "data": {
      "image/png": "[encoded data removed]",
      "text/plain": [
       "<Figure size 432x288 with 2 Axes>"
      ]
     },
     "metadata": {},
     "output_type": "display_data"
    }
   ],
   "source": [
    "print('Test ROC AUC:', gs.score(X_test, y_test))\n",
    "print('Test confusion matrix:')\n",
    "\n",
    "sns.heatmap(confusion_matrix(y_test, pred_test), annot=True, cmap='magma_r', \n",
    "            xticklabels=['Pred AQI cat 0', 'Pred AQI cat 50', 'Pred AQI cat 100'], \n",
    "            yticklabels=['True AQI cat 0', 'True AQI cat 50', 'True AQI cat 100']);\n"
   ]
  },
  {
   "cell_type": "code",
   "execution_count": 48,
   "metadata": {},
   "outputs": [
    {
     "name": "stdout",
     "output_type": "stream",
     "text": [
      "Train MAE: 14.42 \n",
      " Test MAE: 16.38\n"
     ]
    }
   ],
   "source": [
    "#7. Evaluation pt2\n",
    "    #mean absolute error\n",
    "    \n",
    "#predicted results: pred_train, pred_test\n",
    "#actual results: y_train, y_test\n",
    "\n",
    "mae_train = np.round(mean_absolute_error(y_train, pred_train), 2)\n",
    "mae_test = np.round(mean_absolute_error(y_test, pred_test), 2)\n",
    "print('Train MAE:', mae_train, '\\n', 'Test MAE:', mae_test)"
   ]
  },
  {
   "cell_type": "code",
   "execution_count": 49,
   "metadata": {},
   "outputs": [
    {
     "data": {
      "image/png": "[encoded data removed]",
      "text/plain": [
       "<Figure size 432x288 with 1 Axes>"
      ]
     },
     "metadata": {},
     "output_type": "display_data"
    }
   ],
   "source": [
    "#8. Plot results\n",
    "fig, ax = plt.subplots()\n",
    "\n",
    "pred_train = pd.Series(pred_train)\n",
    "\n",
    "plt.title('TRAIN: Actual vs Predicted AQI categories', fontsize = 20)\n",
    "plt.xlabel('Actual AQI values')\n",
    "y_train.plot(kind = 'hist', ax = ax, label = 'Actual')\n",
    "pred_train.plot(kind = 'hist', ax = ax, label = 'Predicted')\n",
    "plt.legend()\n",
    "plt.show()"
   ]
  },
  {
   "cell_type": "code",
   "execution_count": 50,
   "metadata": {},
   "outputs": [
    {
     "data": {
      "image/png": "[encoded data removed]",
      "text/plain": [
       "<Figure size 432x288 with 1 Axes>"
      ]
     },
     "metadata": {},
     "output_type": "display_data"
    }
   ],
   "source": [
    "fig, ax = plt.subplots()\n",
    "\n",
    "pred_test = pd.Series(pred_test)\n",
    "\n",
    "plt.title('TEST: Actual vs Predicted AQI categories', fontsize = 20)\n",
    "plt.xlabel('Actual AQI values')\n",
    "y_test.plot(kind = 'hist', ax = ax, label = 'Actual')\n",
    "pred_test.plot(kind = 'hist', ax = ax, label = 'Predicted')\n",
    "plt.legend()\n",
    "plt.show()"
   ]
  },
  {
   "cell_type": "markdown",
   "metadata": {},
   "source": [
    "# Iterate over various n closest reporting areas"
   ]
  },
  {
   "cell_type": "code",
   "execution_count": 83,
   "metadata": {},
   "outputs": [],
   "source": [
    "def set_xy(n, datadf, state = 'CA', reparea = 'San Francisco'):\n",
    "    #return relevant data using previously defined functions\n",
    "    statedata = relevant_data(datadf, state)\n",
    "    \n",
    "    statedata = distance(statedata, state = state, reparea = reparea)\n",
    "    pred = predictors(n, statedata)\n",
    "    \n",
    "    areas = list(pred['reporting area'])\n",
    "    statedata_n = statedata[statedata['reporting area'].isin(areas)]\n",
    "    #print(statedata_n.shape)\n",
    "    \n",
    "    #set X and y\n",
    "    X = statedata_n.drop(['AQI category', 'AQI value'], axis = 1)\n",
    "    statedata_n['aqicat'] = aqicat(statedata_n)\n",
    "    y = statedata_n['aqicat']\n",
    "    \n",
    "    print('Returns list with X as elem0 nand y as elem1', '\\n',\n",
    "          'X shape:', X.shape,'\\n',\n",
    "          'y shape:', y.shape)\n",
    "    \n",
    "    return (X, y)"
   ]
  },
  {
   "cell_type": "code",
   "execution_count": 84,
   "metadata": {},
   "outputs": [
    {
     "name": "stdout",
     "output_type": "stream",
     "text": [
      "Returns list with X as elem0 nand y as elem1 \n",
      " X shape: (780, 19) \n",
      " y shape: (780,)\n"
     ]
    },
    {
     "name": "stderr",
     "output_type": "stream",
     "text": [
      "/Users/chelen/anaconda3/envs/dsi/lib/python3.6/site-packages/ipykernel/__main__.py:17: SettingWithCopyWarning: \n",
      "A value is trying to be set on a copy of a slice from a DataFrame.\n",
      "Try using .loc[row_indexer,col_indexer] = value instead\n",
      "\n",
      "See the caveats in the documentation: http://pandas.pydata.org/pandas-docs/stable/indexing.html#indexing-view-versus-copy\n"
     ]
    }
   ],
   "source": [
    "X, y = set_xy(2, data, 'CA')"
   ]
  },
  {
   "cell_type": "code",
   "execution_count": 101,
   "metadata": {},
   "outputs": [],
   "source": [
    "def transform_features(X, y):\n",
    "    #train-test-split X, y\n",
    "    X_train, X_test, y_train, y_test = train_test_split(X, y, test_size = 0.25, random_state = 42)    \n",
    "    print('Original feature set:', '\\n', 'Train:', X_train.shape, y_train.shape, '\\n', 'Test:', X_test.shape, y_test.shape)\n",
    "    \n",
    "    #wrangle train and test features\n",
    "    dfs = [X_train, X_test]\n",
    "    \n",
    "    for i, df in enumerate(dfs):\n",
    "        df_existing = pd.get_dummies(df[['primary', 'pollutant', 'action day', 'forecast source']], drop_first = False)\n",
    "        df['season'] = season(df)\n",
    "        df['divider'] = divide(df)\n",
    "        df_new = pd.get_dummies(df[['season', 'divider']], drop_first = False)\n",
    "        df = pd.concat([df_existing, df_new], axis = 1)\n",
    "        #print(i, i.shape)\n",
    "        dfs[i] = df\n",
    "    \n",
    "    X_train, X_test = dfs[0].align(dfs[1], join='outer', axis=1, fill_value=0)\n",
    "    print('Transformed feature set:', '\\n', 'Train:', X_train.shape, y_train.shape, '\\n', 'Test:', X_test.shape, y_test.shape)\n",
    "    \n",
    "    return (X_train, X_test, y_train, y_test)"
   ]
  },
  {
   "cell_type": "code",
   "execution_count": 102,
   "metadata": {},
   "outputs": [
    {
     "name": "stdout",
     "output_type": "stream",
     "text": [
      "Original feature set: \n",
      " Train: (585, 19) (585,) \n",
      " Test: (195, 19) (195,)\n"
     ]
    },
    {
     "name": "stderr",
     "output_type": "stream",
     "text": [
      "/Users/chelen/anaconda3/envs/dsi/lib/python3.6/site-packages/ipykernel/__main__.py:11: SettingWithCopyWarning: \n",
      "A value is trying to be set on a copy of a slice from a DataFrame.\n",
      "Try using .loc[row_indexer,col_indexer] = value instead\n",
      "\n",
      "See the caveats in the documentation: http://pandas.pydata.org/pandas-docs/stable/indexing.html#indexing-view-versus-copy\n"
     ]
    },
    {
     "name": "stdout",
     "output_type": "stream",
     "text": [
      "Transformed feature set: \n",
      " Train: (585, 10) (585,) \n",
      " Test: (195, 10) (195,)\n"
     ]
    },
    {
     "name": "stderr",
     "output_type": "stream",
     "text": [
      "/Users/chelen/anaconda3/envs/dsi/lib/python3.6/site-packages/ipykernel/__main__.py:12: SettingWithCopyWarning: \n",
      "A value is trying to be set on a copy of a slice from a DataFrame.\n",
      "Try using .loc[row_indexer,col_indexer] = value instead\n",
      "\n",
      "See the caveats in the documentation: http://pandas.pydata.org/pandas-docs/stable/indexing.html#indexing-view-versus-copy\n"
     ]
    }
   ],
   "source": [
    "X_train, X_test, y_train, y_test = transform_features(X, y)"
   ]
  },
  {
   "cell_type": "code",
   "execution_count": 114,
   "metadata": {},
   "outputs": [
    {
     "name": "stdout",
     "output_type": "stream",
     "text": [
      "\u001b[93mTest\u001b[0m\n",
      "\u001b[1m\u001b[95mMODEL RESULTS SUMMARY\u001b[0m\u001b[0m\n"
     ]
    }
   ],
   "source": [
    "#coloring text for readability\n",
    "    #source: https://stackoverflow.com/questions/287871/print-in-terminal-with-colors\n",
    "\n",
    "class bcolors:\n",
    "    HEADER = '\\033[95m'\n",
    "    OKBLUE = '\\033[94m'\n",
    "    OKGREEN = '\\033[92m'\n",
    "    WARNING = '\\033[93m'\n",
    "    FAIL = '\\033[91m'\n",
    "    ENDC = '\\033[0m'\n",
    "    BOLD = '\\033[1m'\n",
    "    UNDERLINE = '\\033[4m'\n",
    "\n",
    "print(bcolors.BOLD + bcolors.HEADER + str('Model Results Summary').upper() + bcolors.ENDC + bcolors.ENDC)"
   ]
  },
  {
   "cell_type": "code",
   "execution_count": 136,
   "metadata": {},
   "outputs": [],
   "source": [
    "#prints results, returns model\n",
    "\n",
    "def run_model(X_train, X_test, y_train, y_test):\n",
    "    \n",
    "    print(bcolors.BOLD + bcolors.HEADER + str('Model Results Summary').upper() + bcolors.ENDC + bcolors.ENDC)\n",
    "    print('\\n')\n",
    "    \n",
    "    #instantiate model\n",
    "    pipe = Pipeline([\n",
    "    ('ss', StandardScaler()),\n",
    "    ('lr', LogisticRegression(random_state=42))\n",
    "    ])\n",
    "\n",
    "    params = {'lr__penalty': ['l1','l2'],\n",
    "              'lr__C': np.linspace(1, 10)\n",
    "             }\n",
    "\n",
    "    scoring = {'Accuracy_score': 'accuracy',\n",
    "               'Explained_variance_score': 'explained_variance', \n",
    "               'Mean_absolute_error': 'neg_mean_absolute_error',\n",
    "               'R2_score': 'r2'\n",
    "              }\n",
    "\n",
    "    for score in scoring.keys():\n",
    "        print(score)\n",
    "\n",
    "        #run model\n",
    "        gs = GridSearchCV(pipe, param_grid=params, cv=5, scoring=scoring[score])\n",
    "        gs.fit(X_train, y_train)\n",
    "\n",
    "        print('Train model fit: ', gs.score(X_train, y_train))\n",
    "        print('Test model fit: ', gs.score(X_test, y_test))\n",
    "\n",
    "        print('GS best '+str(score)+' :', gs.best_score_)\n",
    "        print('GS best params:', gs.best_params_)\n",
    "        print('\\n')\n",
    "\n",
    "    #evaluate model\n",
    "        ## Additional metrics\n",
    "    pred_train = gs.predict(X_train)\n",
    "    pred_test = gs.predict(X_test)\n",
    "\n",
    "    print('Classification_report')    #returns text summary of precision, recall, F1 score for each class\n",
    "    print('Train:', classification_report(y_train, pred_train))\n",
    "    print('Test:', classification_report(y_test, pred_test))\n",
    "\n",
    "    print('Hamming_loss')    #returns the fraction of incorrectly predicted labels\n",
    "    print('Train:', hamming_loss(y_train, pred_train))\n",
    "    print('Test:', hamming_loss(y_test, pred_test))\n",
    "    \n",
    "    return (gs)"
   ]
  },
  {
   "cell_type": "code",
   "execution_count": 120,
   "metadata": {},
   "outputs": [
    {
     "name": "stdout",
     "output_type": "stream",
     "text": [
      "\u001b[1m\u001b[95mMODEL RESULTS SUMMARY\u001b[0m\u001b[0m\n",
      "\n",
      "\n",
      "Accuracy_score\n",
      "Train model fit:  0.7350427350427351\n",
      "Test model fit:  0.6666666666666666\n",
      "GS best Accuracy_score : 0.7350427350427351\n",
      "GS best params: {'lr__C': 1.0, 'lr__penalty': 'l1'}\n",
      "\n",
      "\n",
      "Explained_variance_score\n",
      "Train model fit:  0.05530876143560881\n",
      "Test model fit:  -0.1636469900642903\n",
      "GS best Explained_variance_score : 0.057241736123367144\n",
      "GS best params: {'lr__C': 1.0, 'lr__penalty': 'l1'}\n",
      "\n",
      "\n",
      "Mean_absolute_error\n",
      "Train model fit:  -13.247863247863247\n",
      "Test model fit:  -16.666666666666668\n",
      "GS best Mean_absolute_error : -13.247863247863247\n",
      "GS best params: {'lr__C': 1.0, 'lr__penalty': 'l1'}\n",
      "\n",
      "\n",
      "R2_score\n",
      "Train model fit:  0.0029578641801548677\n",
      "Test model fit:  -0.23465809468147336\n",
      "GS best R2_score : 0.002915222565876342\n",
      "GS best params: {'lr__C': 1.0, 'lr__penalty': 'l1'}\n",
      "\n",
      "\n",
      "Classification_report\n",
      "Train:              precision    recall  f1-score   support\n",
      "\n",
      "          0       0.84      0.65      0.73       319\n",
      "         50       0.66      0.85      0.74       261\n",
      "        100       0.00      0.00      0.00         5\n",
      "\n",
      "avg / total       0.75      0.74      0.73       585\n",
      "\n",
      "Test:              precision    recall  f1-score   support\n",
      "\n",
      "          0       0.77      0.56      0.65       104\n",
      "         50       0.60      0.81      0.69        89\n",
      "        100       0.00      0.00      0.00         2\n",
      "\n",
      "avg / total       0.69      0.67      0.66       195\n",
      "\n",
      "Hamming_loss\n",
      "Train: 0.26495726495726496\n",
      "Test: 0.3333333333333333\n"
     ]
    },
    {
     "name": "stderr",
     "output_type": "stream",
     "text": [
      "/Users/chelen/anaconda3/envs/dsi/lib/python3.6/site-packages/sklearn/metrics/classification.py:1135: UndefinedMetricWarning: Precision and F-score are ill-defined and being set to 0.0 in labels with no predicted samples.\n",
      "  'precision', 'predicted', average, warn_for)\n"
     ]
    }
   ],
   "source": [
    "model3 = run_model(X_train, X_test, y_train, y_test)"
   ]
  },
  {
   "cell_type": "code",
   "execution_count": 169,
   "metadata": {},
   "outputs": [],
   "source": [
    "#prints plots, no return\n",
    "\n",
    "def plot_model(model, X_train, X_test, y_train, y_test):\n",
    "    \n",
    "    #predict target category\n",
    "    pred_train = pd.Series(gs.predict(X_train))\n",
    "    pred_test = pd.Series(gs.predict(X_test))\n",
    "    \n",
    "    #plot for train and test sets\n",
    "    name = ['Train', 'Test']\n",
    "    X = [X_train, X_test]\n",
    "    y = [y_train, y_test]\n",
    "    pred = [pred_train, pred_test]\n",
    "    \n",
    "    for i, j in enumerate(X):\n",
    "        #print(i, type(j))\n",
    "        \n",
    "        if i == 0:\n",
    "            print('X_train shape:', j.shape)\n",
    "        elif i == 1:\n",
    "            print('X_test shape:', j.shape)\n",
    "        else:\n",
    "            print('Check function')\n",
    "    \n",
    "        # confusion matrix\n",
    "        print(' ROC AUC:', gs.score(X[i],y[i]))\n",
    "        ax = sns.heatmap(confusion_matrix(y[i], pred[i]), annot=True, cmap='magma_r', \n",
    "                    xticklabels=['Pred AQI cat 0', 'Pred AQI cat 50', 'Pred AQI cat 100'], \n",
    "                    yticklabels=['True AQI cat 0', 'True AQI cat 50', 'True AQI cat 100']);\n",
    "        ax.set_title(name[i]+' confusion matrix:', fontsize = 20)\n",
    "\n",
    "        # bar chart\n",
    "        fig, ax = plt.subplots()\n",
    "        plt.title(name[i]+' Actual vs Predicted AQI categories', fontsize = 20)\n",
    "        plt.xlabel('Actual AQI values')\n",
    "        y[i].plot(kind = 'hist', ax = ax, label = 'Actual')\n",
    "        pred[i].plot(kind = 'hist', ax = ax, label = 'Predicted')\n",
    "        plt.legend()\n",
    "        plt.show()"
   ]
  },
  {
   "cell_type": "code",
   "execution_count": 170,
   "metadata": {},
   "outputs": [
    {
     "name": "stdout",
     "output_type": "stream",
     "text": [
      "X_train shape: (585, 10)\n",
      " ROC AUC: 0.0029578641801548677\n"
     ]
    },
    {
     "data": {
      "image/png": "[encoded data removed]",
      "text/plain": [
       "<Figure size 432x288 with 2 Axes>"
      ]
     },
     "metadata": {},
     "output_type": "display_data"
    },
    {
     "data": {
      "image/png": "[encoded data removed]",
      "text/plain": [
       "<Figure size 432x288 with 1 Axes>"
      ]
     },
     "metadata": {},
     "output_type": "display_data"
    },
    {
     "name": "stdout",
     "output_type": "stream",
     "text": [
      "X_test shape: (195, 10)\n",
      " ROC AUC: -0.23465809468147336\n"
     ]
    },
    {
     "data": {
      "image/png": "[encoded data removed]",
      "text/plain": [
       "<Figure size 432x288 with 2 Axes>"
      ]
     },
     "metadata": {},
     "output_type": "display_data"
    },
    {
     "data": {
      "image/png": "[encoded data removed]",
      "text/plain": [
       "<Figure size 432x288 with 1 Axes>"
      ]
     },
     "metadata": {},
     "output_type": "display_data"
    }
   ],
   "source": [
    "plot_model(model3, X_train, X_test, y_train, y_test)"
   ]
  },
  {
   "cell_type": "code",
   "execution_count": 8,
   "metadata": {},
   "outputs": [],
   "source": [
    "#prints results, no return\n",
    "\n",
    "repareas = [1, 3, 5]\n",
    "def n_closestareas(repareas, state = 'CA', reparea = 'San Francisco'):\n",
    "    for n in repareas:\n",
    "        print(bcolors.OKBLUE + bcolors.BOLD + bcolors.UNDERLINE + \n",
    "            str('For '+str(n)+' closest reporting areas').upper()\n",
    "             + bcolors.ENDC)\n",
    "        print('\\n')\n",
    "        #print(n)\n",
    "        X, y = set_xy(n, data, state, reparea)\n",
    "        print('\\n')\n",
    "        X_train, X_test, y_train, y_test = transform_features(X, y)\n",
    "        print('\\n')\n",
    "        model = run_model(X_train, X_test, y_train, y_test)\n",
    "        print('\\n')\n",
    "        plot_model(model, X_train, X_test, y_train, y_test)\n",
    "        print('\\n\\n\\n\\n\\n\\n\\n\\n\\n\\n\\n\\n\\n\\n\\n\\n')"
   ]
  },
  {
   "cell_type": "code",
   "execution_count": 9,
   "metadata": {},
   "outputs": [
    {
     "name": "stdout",
     "output_type": "stream",
     "text": [
      "[1, 3, 5]\n"
     ]
    }
   ],
   "source": [
    "print(repareas)"
   ]
  },
  {
   "cell_type": "code",
   "execution_count": 10,
   "metadata": {},
   "outputs": [],
   "source": [
    "warnings.filterwarnings('ignore')"
   ]
  },
  {
   "cell_type": "code",
   "execution_count": 199,
   "metadata": {},
   "outputs": [
    {
     "name": "stdout",
     "output_type": "stream",
     "text": [
      "\u001b[94m\u001b[1m\u001b[4mFOR 1 CLOSEST REPORTING AREAS\u001b[0m\n",
      "\n",
      "\n",
      "Returns list with X as elem0 nand y as elem1 \n",
      " X shape: (390, 19) \n",
      " y shape: (390,)\n",
      "\n",
      "\n",
      "Original feature set: \n",
      " Train: (292, 19) (292,) \n",
      " Test: (98, 19) (98,)\n",
      "Transformed feature set: \n",
      " Train: (292, 10) (292,) \n",
      " Test: (98, 10) (98,)\n",
      "\n",
      "\n",
      "\u001b[1m\u001b[95mMODEL RESULTS SUMMARY\u001b[0m\u001b[0m\n",
      "\n",
      "\n",
      "Accuracy_score\n",
      "Train model fit:  0.7226027397260274\n",
      "Test model fit:  0.6836734693877551\n",
      "GS best Accuracy_score : 0.7226027397260274\n",
      "GS best params: {'lr__C': 1.0, 'lr__penalty': 'l1'}\n",
      "\n",
      "\n",
      "Explained_variance_score\n",
      "Train model fit:  -0.0319703622392975\n",
      "Test model fit:  -0.06509104998062787\n",
      "GS best Explained_variance_score : -0.026738676518380845\n",
      "GS best params: {'lr__C': 1.0, 'lr__penalty': 'l1'}\n",
      "\n",
      "\n",
      "Mean_absolute_error\n",
      "Train model fit:  -13.86986301369863\n",
      "Test model fit:  -15.816326530612244\n",
      "GS best Mean_absolute_error : -13.86986301369863\n",
      "GS best params: {'lr__C': 1.0, 'lr__penalty': 'l1'}\n",
      "\n",
      "\n",
      "R2_score\n",
      "Train model fit:  -0.08177826564215152\n",
      "Test model fit:  -0.1770631538163503\n",
      "GS best R2_score : -0.0845558992487849\n",
      "GS best params: {'lr__C': 1.0, 'lr__penalty': 'l1'}\n",
      "\n",
      "\n",
      "Classification_report\n",
      "Train:              precision    recall  f1-score   support\n",
      "\n",
      "          0       0.81      0.63      0.71       153\n",
      "         50       0.66      0.83      0.74       138\n",
      "        100       0.00      0.00      0.00         1\n",
      "\n",
      "avg / total       0.74      0.72      0.72       292\n",
      "\n",
      "Test:              precision    recall  f1-score   support\n",
      "\n",
      "          0       0.83      0.56      0.67        54\n",
      "         50       0.60      0.86      0.70        43\n",
      "        100       0.00      0.00      0.00         1\n",
      "\n",
      "avg / total       0.72      0.68      0.68        98\n",
      "\n",
      "Hamming_loss\n",
      "Train: 0.2773972602739726\n",
      "Test: 0.3163265306122449\n",
      "\n",
      "\n",
      "X_train shape: (292, 10)\n",
      " ROC AUC: -0.08177826564215152\n"
     ]
    },
    {
     "data": {
      "image/png": "[encoded data removed]",
      "text/plain": [
       "<Figure size 432x288 with 2 Axes>"
      ]
     },
     "metadata": {},
     "output_type": "display_data"
    },
    {
     "data": {
      "image/png": "[encoded data removed]",
      "text/plain": [
       "<Figure size 432x288 with 1 Axes>"
      ]
     },
     "metadata": {},
     "output_type": "display_data"
    },
    {
     "name": "stdout",
     "output_type": "stream",
     "text": [
      "X_test shape: (98, 10)\n",
      " ROC AUC: -0.1770631538163503\n"
     ]
    },
    {
     "data": {
      "image/png": "[encoded data removed]",
      "text/plain": [
       "<Figure size 432x288 with 2 Axes>"
      ]
     },
     "metadata": {},
     "output_type": "display_data"
    },
    {
     "data": {
      "image/png": "[encoded data removed]",
      "text/plain": [
       "<Figure size 432x288 with 1 Axes>"
      ]
     },
     "metadata": {},
     "output_type": "display_data"
    },
    {
     "name": "stdout",
     "output_type": "stream",
     "text": [
      "\n",
      "\n",
      "\n",
      "\n",
      "\n",
      "\n",
      "\n",
      "\n",
      "\n",
      "\n",
      "\n",
      "\n",
      "\n",
      "\n",
      "\n",
      "\n",
      "\n",
      "\u001b[94m\u001b[1m\u001b[4mFOR 3 CLOSEST REPORTING AREAS\u001b[0m\n",
      "\n",
      "\n",
      "Returns list with X as elem0 nand y as elem1 \n",
      " X shape: (1170, 19) \n",
      " y shape: (1170,)\n",
      "\n",
      "\n",
      "Original feature set: \n",
      " Train: (877, 19) (877,) \n",
      " Test: (293, 19) (293,)\n",
      "Transformed feature set: \n",
      " Train: (877, 10) (877,) \n",
      " Test: (293, 10) (293,)\n",
      "\n",
      "\n",
      "\u001b[1m\u001b[95mMODEL RESULTS SUMMARY\u001b[0m\u001b[0m\n",
      "\n",
      "\n",
      "Accuracy_score\n",
      "Train model fit:  0.7115165336374002\n",
      "Test model fit:  0.6723549488054608\n",
      "GS best Accuracy_score : 0.7115165336374002\n",
      "GS best params: {'lr__C': 1.0, 'lr__penalty': 'l1'}\n",
      "\n",
      "\n",
      "Explained_variance_score\n",
      "Train model fit:  -0.10897477256597177\n",
      "Test model fit:  -0.13842355845529886\n",
      "GS best Explained_variance_score : -0.10360198371629352\n",
      "GS best params: {'lr__C': 1.0, 'lr__penalty': 'l1'}\n",
      "\n",
      "\n",
      "Mean_absolute_error\n",
      "Train model fit:  -14.424173318129988\n",
      "Test model fit:  -16.38225255972696\n",
      "GS best Mean_absolute_error : -14.424173318129988\n",
      "GS best params: {'lr__C': 1.0, 'lr__penalty': 'l1'}\n",
      "\n",
      "\n",
      "R2_score\n",
      "Train model fit:  -0.19298556896143837\n",
      "Test model fit:  -0.2399929465702697\n",
      "GS best R2_score : -0.1906248904062757\n",
      "GS best params: {'lr__C': 1.0, 'lr__penalty': 'l1'}\n",
      "\n",
      "\n",
      "Classification_report\n",
      "Train:              precision    recall  f1-score   support\n",
      "\n",
      "          0       0.86      0.66      0.74       549\n",
      "         50       0.58      0.81      0.68       325\n",
      "        100       0.00      0.00      0.00         3\n",
      "\n",
      "avg / total       0.75      0.71      0.72       877\n",
      "\n",
      "Test:              precision    recall  f1-score   support\n",
      "\n",
      "          0       0.85      0.61      0.71       184\n",
      "         50       0.53      0.81      0.64       105\n",
      "        100       0.00      0.00      0.00         4\n",
      "\n",
      "avg / total       0.72      0.67      0.67       293\n",
      "\n",
      "Hamming_loss\n",
      "Train: 0.28848346636259975\n",
      "Test: 0.32764505119453924\n",
      "\n",
      "\n",
      "X_train shape: (877, 10)\n",
      " ROC AUC: -0.19298556896143837\n"
     ]
    },
    {
     "data": {
      "image/png": "[encoded data removed]",
      "text/plain": [
       "<Figure size 432x288 with 2 Axes>"
      ]
     },
     "metadata": {},
     "output_type": "display_data"
    },
    {
     "data": {
      "image/png": "[encoded data removed]",
      "text/plain": [
       "<Figure size 432x288 with 1 Axes>"
      ]
     },
     "metadata": {},
     "output_type": "display_data"
    },
    {
     "name": "stdout",
     "output_type": "stream",
     "text": [
      "X_test shape: (293, 10)\n",
      " ROC AUC: -0.2399929465702697\n"
     ]
    },
    {
     "data": {
      "image/png": "[encoded data removed]",
      "text/plain": [
       "<Figure size 432x288 with 2 Axes>"
      ]
     },
     "metadata": {},
     "output_type": "display_data"
    },
    {
     "data": {
      "image/png": "[encoded data removed]",
      "text/plain": [
       "<Figure size 432x288 with 1 Axes>"
      ]
     },
     "metadata": {},
     "output_type": "display_data"
    },
    {
     "name": "stdout",
     "output_type": "stream",
     "text": [
      "\n",
      "\n",
      "\n",
      "\n",
      "\n",
      "\n",
      "\n",
      "\n",
      "\n",
      "\n",
      "\n",
      "\n",
      "\n",
      "\n",
      "\n",
      "\n",
      "\n",
      "\u001b[94m\u001b[1m\u001b[4mFOR 5 CLOSEST REPORTING AREAS\u001b[0m\n",
      "\n",
      "\n",
      "Returns list with X as elem0 nand y as elem1 \n",
      " X shape: (1950, 19) \n",
      " y shape: (1950,)\n",
      "\n",
      "\n",
      "Original feature set: \n",
      " Train: (1462, 19) (1462,) \n",
      " Test: (488, 19) (488,)\n",
      "Transformed feature set: \n",
      " Train: (1462, 10) (1462,) \n",
      " Test: (488, 10) (488,)\n",
      "\n",
      "\n",
      "\u001b[1m\u001b[95mMODEL RESULTS SUMMARY\u001b[0m\u001b[0m\n",
      "\n",
      "\n",
      "Accuracy_score\n",
      "Train model fit:  0.6839945280437757\n",
      "Test model fit:  0.6557377049180327\n",
      "GS best Accuracy_score : 0.6703146374829001\n",
      "GS best params: {'lr__C': 1.0, 'lr__penalty': 'l1'}\n",
      "\n",
      "\n",
      "Explained_variance_score\n",
      "Train model fit:  -0.2892631795009446\n",
      "Test model fit:  -0.39130748682405647\n",
      "GS best Explained_variance_score : -0.37289274691803487\n",
      "GS best params: {'lr__C': 1.0, 'lr__penalty': 'l1'}\n",
      "\n",
      "\n",
      "Mean_absolute_error\n",
      "Train model fit:  -15.868673050615595\n",
      "Test model fit:  -17.21311475409836\n",
      "GS best Mean_absolute_error : -16.62106703146375\n",
      "GS best params: {'lr__C': 1.0, 'lr__penalty': 'l1'}\n",
      "\n",
      "\n",
      "R2_score\n",
      "Train model fit:  -0.3503987747618309\n",
      "Test model fit:  -0.47974875460255584\n",
      "GS best R2_score : -0.42544237812720753\n",
      "GS best params: {'lr__C': 1.0, 'lr__penalty': 'l1'}\n",
      "\n",
      "\n",
      "Classification_report\n",
      "Train:              precision    recall  f1-score   support\n",
      "\n",
      "          0       0.83      0.67      0.74       965\n",
      "         50       0.52      0.73      0.61       489\n",
      "        100       0.00      0.00      0.00         8\n",
      "\n",
      "avg / total       0.72      0.68      0.69      1462\n",
      "\n",
      "Test:              precision    recall  f1-score   support\n",
      "\n",
      "          0       0.81      0.63      0.71       324\n",
      "         50       0.49      0.71      0.58       162\n",
      "        100       0.00      0.00      0.00         2\n",
      "\n",
      "avg / total       0.70      0.66      0.66       488\n",
      "\n",
      "Hamming_loss\n",
      "Train: 0.31600547195622436\n",
      "Test: 0.3442622950819672\n",
      "\n",
      "\n",
      "X_train shape: (1462, 10)\n",
      " ROC AUC: -0.3503987747618309\n"
     ]
    },
    {
     "data": {
      "image/png": "[encoded data removed]",
      "text/plain": [
       "<Figure size 432x288 with 2 Axes>"
      ]
     },
     "metadata": {},
     "output_type": "display_data"
    },
    {
     "data": {
      "image/png": "[encoded data removed]",
      "text/plain": [
       "<Figure size 432x288 with 1 Axes>"
      ]
     },
     "metadata": {},
     "output_type": "display_data"
    },
    {
     "name": "stdout",
     "output_type": "stream",
     "text": [
      "X_test shape: (488, 10)\n",
      " ROC AUC: -0.47974875460255584\n"
     ]
    },
    {
     "data": {
      "image/png": "[encoded data removed]",
      "text/plain": [
       "<Figure size 432x288 with 2 Axes>"
      ]
     },
     "metadata": {},
     "output_type": "display_data"
    },
    {
     "data": {
      "image/png": "[encoded data removed]",
      "text/plain": [
       "<Figure size 432x288 with 1 Axes>"
      ]
     },
     "metadata": {},
     "output_type": "display_data"
    },
    {
     "name": "stdout",
     "output_type": "stream",
     "text": [
      "\n",
      "\n",
      "\n",
      "\n",
      "\n",
      "\n",
      "\n",
      "\n",
      "\n",
      "\n",
      "\n",
      "\n",
      "\n",
      "\n",
      "\n",
      "\n",
      "\n"
     ]
    }
   ],
   "source": [
    "n_closestareas(repareas)"
   ]
  }
 ],
 "metadata": {
  "kernelspec": {
   "display_name": "Python [conda env:dsi]",
   "language": "python",
   "name": "conda-env-dsi-py"
  },
  "language_info": {
   "codemirror_mode": {
    "name": "ipython",
    "version": 3
   },
   "file_extension": ".py",
   "mimetype": "text/x-python",
   "name": "python",
   "nbconvert_exporter": "python",
   "pygments_lexer": "ipython3",
   "version": "3.6.5"
  }
 },
 "nbformat": 4,
 "nbformat_minor": 2
}
