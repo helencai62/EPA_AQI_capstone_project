{
 "cells": [
  {
   "cell_type": "markdown",
   "metadata": {},
   "source": [
    "# 6/18: API Data Collection - Sonoma wildfire time period: 10/2017 data"
   ]
  },
  {
   "cell_type": "code",
   "execution_count": 3,
   "metadata": {},
   "outputs": [],
   "source": [
    "#import libraries\n",
    "import io\n",
    "import requests\n",
    "import pandas as pd\n",
    "import numpy as np"
   ]
  },
  {
   "cell_type": "markdown",
   "metadata": {},
   "source": [
    "# Making url request"
   ]
  },
  {
   "cell_type": "code",
   "execution_count": 2,
   "metadata": {},
   "outputs": [],
   "source": [
    "urlbase = \"https://s3-us-west-1.amazonaws.com//files.airnowtech.org/airnow\"\n",
    "urlyear = \"2017\"\n",
    "reporting_data_columns1 =  ['reporting_date', 'forecast_date', 'time', 'time_zone', 'unknown_1',\n",
    "                       'unknown_binary_2', 'unknown_binary_3', 'reporting_area', 'state_code', \n",
    "                       'latitude', 'longitude', 'measurement_type', 'measurement_aqi', \n",
    "                       'aqi_interpretation', 'description', 'reporting_department']\n",
    "air_data_total = None\n",
    "air_data_reporting = None\n",
    "month=6"
   ]
  },
  {
   "cell_type": "code",
   "execution_count": 5,
   "metadata": {},
   "outputs": [],
   "source": [
    "#from factsheet <https://docs.airnowapi.org/docs/ReportingAreaFactSheet.pdf>\n",
    "reporting_data_columns2 = ['issue date', 'valid date', 'valid time', 'time zone', 'record sequence', 'data type',\n",
    "                          'primary', 'reporting area', 'state code', 'latitude', 'longitude', 'pollutant',\n",
    "                          'AQI value', 'AQI category', 'action day', 'discussion', 'forecast source']"
   ]
  },
  {
   "cell_type": "code",
   "execution_count": 6,
   "metadata": {},
   "outputs": [],
   "source": [
    "def unique_rowtag(row):\n",
    "    return str(row['reporting area']) + str(np.int(row['latitude'])) + str(np.int(row['longitude']))\n",
    "\n",
    "def get_reportingarea_data(day, month=10, year=2018):\n",
    "    urldate = str(year) + str(month).zfill(2) +str(day).zfill(2)\n",
    "    urlfilename = 'reportingarea.dat'\n",
    "    s = requests.get(urlbase+'/'+urlyear+'/'+urldate+'/'+urlfilename).content\n",
    "    air_data = pd.read_csv(io.StringIO(s.decode('utf-8')),sep='|', \n",
    "                          header=None, index_col = False, names=reporting_data_columns2)\n",
    "    return air_data"
   ]
  },
  {
   "cell_type": "markdown",
   "metadata": {},
   "source": [
    "# Load in data from Sonoma wildfire 2017 time period"
   ]
  },
  {
   "cell_type": "code",
   "execution_count": 7,
   "metadata": {},
   "outputs": [],
   "source": [
    "#Sonoma wildfire: 10/8-10/31/2017\n",
    "for i in np.arange(8, 32):\n",
    "    reporting_data = get_reportingarea_data(i, month = 10, year = '2017')\n",
    "    air_data_total = pd.concat([air_data_reporting, reporting_data], axis=0)\n",
    "    \n",
    "#air_data_total['unique_name'] = air_data_total.apply(unique_rowtag, axis=1)"
   ]
  },
  {
   "cell_type": "code",
   "execution_count": 8,
   "metadata": {},
   "outputs": [
    {
     "data": {
      "text/html": [
       "<div>\n",
       "<style scoped>\n",
       "    .dataframe tbody tr th:only-of-type {\n",
       "        vertical-align: middle;\n",
       "    }\n",
       "\n",
       "    .dataframe tbody tr th {\n",
       "        vertical-align: top;\n",
       "    }\n",
       "\n",
       "    .dataframe thead th {\n",
       "        text-align: right;\n",
       "    }\n",
       "</style>\n",
       "<table border=\"1\" class=\"dataframe\">\n",
       "  <thead>\n",
       "    <tr style=\"text-align: right;\">\n",
       "      <th></th>\n",
       "      <th>issue date</th>\n",
       "      <th>valid date</th>\n",
       "      <th>valid time</th>\n",
       "      <th>time zone</th>\n",
       "      <th>record sequence</th>\n",
       "      <th>data type</th>\n",
       "      <th>primary</th>\n",
       "      <th>reporting area</th>\n",
       "      <th>state code</th>\n",
       "      <th>latitude</th>\n",
       "      <th>longitude</th>\n",
       "      <th>pollutant</th>\n",
       "      <th>AQI value</th>\n",
       "      <th>AQI category</th>\n",
       "      <th>action day</th>\n",
       "      <th>discussion</th>\n",
       "      <th>forecast source</th>\n",
       "    </tr>\n",
       "  </thead>\n",
       "  <tbody>\n",
       "  </tbody>\n",
       "</table>\n",
       "</div>"
      ],
      "text/plain": [
       "Empty DataFrame\n",
       "Columns: [issue date, valid date, valid time, time zone, record sequence, data type, primary, reporting area, state code, latitude, longitude, pollutant, AQI value, AQI category, action day, discussion, forecast source]\n",
       "Index: []"
      ]
     },
     "execution_count": 8,
     "metadata": {},
     "output_type": "execute_result"
    }
   ],
   "source": [
    "test = get_reportingarea_data(8, month = 10, year = \"2017\")\n",
    "\n",
    "test[test['data type'] == 0].head()\n",
    "#print(get_reportingarea_data(9, month = 10, year = \"2017\")['valid date'].unique())"
   ]
  },
  {
   "cell_type": "code",
   "execution_count": 9,
   "metadata": {},
   "outputs": [
    {
     "data": {
      "text/html": [
       "<div>\n",
       "<style scoped>\n",
       "    .dataframe tbody tr th:only-of-type {\n",
       "        vertical-align: middle;\n",
       "    }\n",
       "\n",
       "    .dataframe tbody tr th {\n",
       "        vertical-align: top;\n",
       "    }\n",
       "\n",
       "    .dataframe thead th {\n",
       "        text-align: right;\n",
       "    }\n",
       "</style>\n",
       "<table border=\"1\" class=\"dataframe\">\n",
       "  <thead>\n",
       "    <tr style=\"text-align: right;\">\n",
       "      <th></th>\n",
       "      <th>issue date</th>\n",
       "      <th>valid date</th>\n",
       "      <th>valid time</th>\n",
       "      <th>time zone</th>\n",
       "      <th>record sequence</th>\n",
       "      <th>data type</th>\n",
       "      <th>primary</th>\n",
       "      <th>reporting area</th>\n",
       "      <th>state code</th>\n",
       "      <th>latitude</th>\n",
       "      <th>longitude</th>\n",
       "      <th>pollutant</th>\n",
       "      <th>AQI value</th>\n",
       "      <th>AQI category</th>\n",
       "      <th>action day</th>\n",
       "      <th>discussion</th>\n",
       "      <th>forecast source</th>\n",
       "    </tr>\n",
       "  </thead>\n",
       "  <tbody>\n",
       "    <tr>\n",
       "      <th>0</th>\n",
       "      <td>10/31/17</td>\n",
       "      <td>10/30/17</td>\n",
       "      <td>NaN</td>\n",
       "      <td>PDT</td>\n",
       "      <td>-1</td>\n",
       "      <td>Y</td>\n",
       "      <td>Y</td>\n",
       "      <td>Aberdeen</td>\n",
       "      <td>WA</td>\n",
       "      <td>46.9725</td>\n",
       "      <td>-123.8317</td>\n",
       "      <td>PM2.5</td>\n",
       "      <td>53.0</td>\n",
       "      <td>Moderate</td>\n",
       "      <td>No</td>\n",
       "      <td>NaN</td>\n",
       "      <td>Olympic Region Clean Air Agency</td>\n",
       "    </tr>\n",
       "    <tr>\n",
       "      <th>1</th>\n",
       "      <td>10/31/17</td>\n",
       "      <td>10/31/17</td>\n",
       "      <td>21:00</td>\n",
       "      <td>PDT</td>\n",
       "      <td>0</td>\n",
       "      <td>O</td>\n",
       "      <td>Y</td>\n",
       "      <td>Aberdeen</td>\n",
       "      <td>WA</td>\n",
       "      <td>46.9725</td>\n",
       "      <td>-123.8317</td>\n",
       "      <td>PM2.5</td>\n",
       "      <td>25.0</td>\n",
       "      <td>Good</td>\n",
       "      <td>No</td>\n",
       "      <td>NaN</td>\n",
       "      <td>Olympic Region Clean Air Agency</td>\n",
       "    </tr>\n",
       "    <tr>\n",
       "      <th>2</th>\n",
       "      <td>11/01/17</td>\n",
       "      <td>10/31/17</td>\n",
       "      <td>NaN</td>\n",
       "      <td>EAT</td>\n",
       "      <td>-1</td>\n",
       "      <td>Y</td>\n",
       "      <td>Y</td>\n",
       "      <td>Addis Ababa Central</td>\n",
       "      <td></td>\n",
       "      <td>9.0585</td>\n",
       "      <td>38.7616</td>\n",
       "      <td>PM2.5</td>\n",
       "      <td>65.0</td>\n",
       "      <td>Moderate</td>\n",
       "      <td>No</td>\n",
       "      <td>NaN</td>\n",
       "      <td>U.S. Department of State Ethiopia - Addis Ababa</td>\n",
       "    </tr>\n",
       "    <tr>\n",
       "      <th>3</th>\n",
       "      <td>11/01/17</td>\n",
       "      <td>11/01/17</td>\n",
       "      <td>7:00</td>\n",
       "      <td>EAT</td>\n",
       "      <td>0</td>\n",
       "      <td>O</td>\n",
       "      <td>Y</td>\n",
       "      <td>Addis Ababa Central</td>\n",
       "      <td></td>\n",
       "      <td>9.0585</td>\n",
       "      <td>38.7616</td>\n",
       "      <td>PM2.5</td>\n",
       "      <td>55.0</td>\n",
       "      <td>Moderate</td>\n",
       "      <td>No</td>\n",
       "      <td>NaN</td>\n",
       "      <td>U.S. Department of State Ethiopia - Addis Ababa</td>\n",
       "    </tr>\n",
       "    <tr>\n",
       "      <th>4</th>\n",
       "      <td>10/31/17</td>\n",
       "      <td>10/31/17</td>\n",
       "      <td>NaN</td>\n",
       "      <td>EDT</td>\n",
       "      <td>0</td>\n",
       "      <td>F</td>\n",
       "      <td>Y</td>\n",
       "      <td>Adirondacks Region</td>\n",
       "      <td>NY</td>\n",
       "      <td>43.9700</td>\n",
       "      <td>-74.1600</td>\n",
       "      <td>PM2.5</td>\n",
       "      <td>9.0</td>\n",
       "      <td>Good</td>\n",
       "      <td>No</td>\n",
       "      <td>NaN</td>\n",
       "      <td>New York Dept. of Environmental Conservation</td>\n",
       "    </tr>\n",
       "  </tbody>\n",
       "</table>\n",
       "</div>"
      ],
      "text/plain": [
       "  issue date valid date valid time time zone  record sequence data type  \\\n",
       "0   10/31/17   10/30/17        NaN       PDT               -1         Y   \n",
       "1   10/31/17   10/31/17      21:00       PDT                0         O   \n",
       "2   11/01/17   10/31/17        NaN       EAT               -1         Y   \n",
       "3   11/01/17   11/01/17       7:00       EAT                0         O   \n",
       "4   10/31/17   10/31/17        NaN       EDT                0         F   \n",
       "\n",
       "  primary       reporting area state code  latitude  longitude pollutant  \\\n",
       "0       Y             Aberdeen         WA   46.9725  -123.8317     PM2.5   \n",
       "1       Y             Aberdeen         WA   46.9725  -123.8317     PM2.5   \n",
       "2       Y  Addis Ababa Central               9.0585    38.7616     PM2.5   \n",
       "3       Y  Addis Ababa Central               9.0585    38.7616     PM2.5   \n",
       "4       Y   Adirondacks Region         NY   43.9700   -74.1600     PM2.5   \n",
       "\n",
       "   AQI value AQI category action day discussion  \\\n",
       "0       53.0     Moderate         No        NaN   \n",
       "1       25.0         Good         No        NaN   \n",
       "2       65.0     Moderate         No        NaN   \n",
       "3       55.0     Moderate         No        NaN   \n",
       "4        9.0         Good         No        NaN   \n",
       "\n",
       "                                   forecast source  \n",
       "0                  Olympic Region Clean Air Agency  \n",
       "1                  Olympic Region Clean Air Agency  \n",
       "2  U.S. Department of State Ethiopia - Addis Ababa  \n",
       "3  U.S. Department of State Ethiopia - Addis Ababa  \n",
       "4     New York Dept. of Environmental Conservation  "
      ]
     },
     "execution_count": 9,
     "metadata": {},
     "output_type": "execute_result"
    }
   ],
   "source": [
    "air_data_total['valid date'].unique()\n",
    "air_data_total.head()"
   ]
  },
  {
   "cell_type": "code",
   "execution_count": 12,
   "metadata": {},
   "outputs": [],
   "source": [
    "air_data_total.to_csv('../Data/secondlook_all.csv')"
   ]
  }
 ],
 "metadata": {
  "kernelspec": {
   "display_name": "Python [conda env:dsi]",
   "language": "python",
   "name": "conda-env-dsi-py"
  },
  "language_info": {
   "codemirror_mode": {
    "name": "ipython",
    "version": 3
   },
   "file_extension": ".py",
   "mimetype": "text/x-python",
   "name": "python",
   "nbconvert_exporter": "python",
   "pygments_lexer": "ipython3",
   "version": "3.6.5"
  }
 },
 "nbformat": 4,
 "nbformat_minor": 2
}
