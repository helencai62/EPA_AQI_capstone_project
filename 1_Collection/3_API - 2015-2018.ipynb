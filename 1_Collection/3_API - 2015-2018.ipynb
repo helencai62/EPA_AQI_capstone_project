{
 "cells": [
  {
   "cell_type": "markdown",
   "metadata": {},
   "source": [
    "## 7/8: API Data Collection - 2015 through 2018 data"
   ]
  },
  {
   "cell_type": "code",
   "execution_count": 1,
   "metadata": {},
   "outputs": [],
   "source": [
    "#import libraries\n",
    "import io\n",
    "import time\n",
    "import requests\n",
    "import pandas as pd\n",
    "import numpy as np\n",
    "from sqlalchemy import create_engine"
   ]
  },
  {
   "cell_type": "code",
   "execution_count": 2,
   "metadata": {},
   "outputs": [],
   "source": [
    "#set up api request\n",
    "urlbase = 'https://s3-us-west-1.amazonaws.com//files.airnowtech.org/airnow'\n",
    "urlfilename = 'reportingarea.dat'\n",
    "\n",
    "#df columns from factsheet\n",
    "    #https://docs.airnowapi.org/docs/ReportingAreaFactSheet.pdf\n",
    "reporting_data_columns = ['issue date', 'valid date', 'valid time', 'time zone', 'record sequence', 'data type',\n",
    "                          'primary', 'reporting area', 'state code', 'latitude', 'longitude', 'pollutant',\n",
    "                          'AQI value', 'AQI category', 'action day', 'discussion', 'forecast source']"
   ]
  },
  {
   "cell_type": "code",
   "execution_count": 3,
   "metadata": {},
   "outputs": [
    {
     "name": "stdout",
     "output_type": "stream",
     "text": [
      "20180620\n",
      "https://s3-us-west-1.amazonaws.com//files.airnowtech.org/airnow/2018/20180620/reportingarea.dat\n"
     ]
    },
    {
     "data": {
      "text/plain": [
       "(5379, 18)"
      ]
     },
     "execution_count": 3,
     "metadata": {},
     "output_type": "execute_result"
    }
   ],
   "source": [
    "#request content for today\n",
    "year = '2018'\n",
    "month = 6\n",
    "day = 20\n",
    "\n",
    "urldate = str(year) + str(month).zfill(2) +str(day).zfill(2)\n",
    "print(urldate)\n",
    "\n",
    "s = requests.get(urlbase+'/'+str(year)+'/'+urldate+'/'+urlfilename).content\n",
    "print(urlbase+'/'+str(year)+'/'+urldate+'/'+urlfilename)\n",
    "#print(s)\n",
    "\n",
    "air_data_today = pd.read_csv(io.StringIO(s.decode()), sep='|', names=reporting_data_columns)\n",
    "air_data_today['urldate'] = urldate\n",
    "air_data_today.shape"
   ]
  },
  {
   "cell_type": "code",
   "execution_count": 4,
   "metadata": {},
   "outputs": [],
   "source": [
    "#function to request content\n",
    "def get_reportingarea_data(day, month=6, year=2018):\n",
    "    urldate = str(year) + str(month).zfill(2) +str(day).zfill(2)\n",
    "    urlfilename = 'reportingarea.dat'\n",
    "    s = requests.get(urlbase+'/'+str(year)+'/'+urldate+'/'+urlfilename).content\n",
    "    air_data_daily = pd.read_csv(io.StringIO(s.decode()),sep='|', names=reporting_data_columns)\n",
    "    air_data_daily['urldate'] = urldate\n",
    "    return air_data_daily"
   ]
  },
  {
   "cell_type": "code",
   "execution_count": 5,
   "metadata": {},
   "outputs": [
    {
     "name": "stdout",
     "output_type": "stream",
     "text": [
      "1\n",
      "2\n",
      "3\n",
      "4\n"
     ]
    }
   ],
   "source": [
    "#Reran 2-3x per year for dfs by year below \n",
    "    #due to requests timing out\n",
    "\n",
    "air_data_annual = None\n",
    "air_data_holder = None\n",
    "year = 2014\n",
    "\n",
    "for month in range(1, 5):\n",
    "    print(month)\n",
    "    for day in np.arange(1, 32):\n",
    "        reporting_data = get_reportingarea_data(day, month=month, year=year)    \n",
    "        if (month == 1 and day == 1):\n",
    "            air_data_annual = pd.concat([air_data_holder, reporting_data], axis=0, ignore_index=True)\n",
    "        else:\n",
    "            air_data_annual = pd.concat([air_data_annual, reporting_data], axis=0, ignore_index=True)\n",
    "    time.sleep(0.5)"
   ]
  },
  {
   "cell_type": "code",
   "execution_count": 37,
   "metadata": {},
   "outputs": [
    {
     "data": {
      "text/plain": [
       "(815928, 18)"
      ]
     },
     "execution_count": 37,
     "metadata": {},
     "output_type": "execute_result"
    }
   ],
   "source": [
    "air_data_annual.shape"
   ]
  },
  {
   "cell_type": "code",
   "execution_count": 38,
   "metadata": {},
   "outputs": [
    {
     "data": {
      "text/plain": [
       "array(['01/01/17', '01/02/17', '12/30/16', '12/29/16', '12/31/16',\n",
       "       '12/28/16', '01/03/17', '01/04/17', '01/05/17', '01/06/17',\n",
       "       '01/07/17', '01/08/17', '01/09/17', '01/10/17', '01/11/17',\n",
       "       '01/12/17', '01/13/17', '01/14/17', '01/15/17', '01/16/17',\n",
       "       '01/17/17', '01/18/17', '01/19/17', '01/20/17', '01/21/17',\n",
       "       '01/22/17', '01/23/17', '01/24/17', '01/25/17', '01/26/17',\n",
       "       '01/27/17', '01/28/17', '01/29/17', '01/30/17', '01/31/17',\n",
       "       '02/01/17', '02/02/17', '02/03/17', '02/04/17', '02/05/17',\n",
       "       '02/06/17', '02/07/17', '02/08/17', '02/09/17', '02/10/17',\n",
       "       '02/11/17', '02/12/17', '02/13/17', '02/14/17', '02/15/17',\n",
       "       '02/16/17', '02/17/17', '02/18/17', '02/19/17', '02/20/17',\n",
       "       '02/21/17', '02/22/17', '02/23/17', '02/24/17', '02/25/17',\n",
       "       '02/26/17', '02/27/17', '02/28/17', '03/01/17',\n",
       "       '<?xml version=\"1.0\" encoding=\"UTF-8\"?>',\n",
       "       '<Error><Code>NoSuchKey</Code><Message>The specified key does not exist.</Message><Key>airnow/2017/20170229/reportingarea.dat</Key><RequestId>609E39090271FED2</RequestId><HostId>li29zqmAEM1FeoQbf92X3d+Y54vxjDlOiBaIxnP+3eA6Apd2ssX0TQQtIMQRbeeREh544HgsFvA=</HostId></Error>',\n",
       "       '<Error><Code>NoSuchKey</Code><Message>The specified key does not exist.</Message><Key>airnow/2017/20170230/reportingarea.dat</Key><RequestId>1B554848EB89A431</RequestId><HostId>8JYOp2nlPVNA7SX51T/qr+qhuQlJFww3X/B712gTmmcFcY8lORhnJre+EdN72vCHEQH+aC3ZOk8=</HostId></Error>',\n",
       "       '<Error><Code>NoSuchKey</Code><Message>The specified key does not exist.</Message><Key>airnow/2017/20170231/reportingarea.dat</Key><RequestId>8E27709A72583548</RequestId><HostId>Nclk+M5Es2wQu341fWKKx0G1p4d+//UMSHi6hx+xwEn/S9am3OBWxGgDo+HLJLhDwb1Emi57Kqc=</HostId></Error>',\n",
       "       '03/02/17', '03/03/17', '03/04/17', '03/05/17', '03/06/17',\n",
       "       '03/07/17', '03/08/17', '03/09/17', '03/10/17', '03/11/17',\n",
       "       '03/12/17', '03/13/17', '03/14/17', '03/15/17', '03/16/17',\n",
       "       '03/17/17', '03/18/17', '03/19/17', '03/20/17', '03/21/17',\n",
       "       '03/22/17', '03/23/17', '03/24/17', '03/25/17', '03/26/17',\n",
       "       '03/27/17', '03/28/17', '03/29/17', '03/30/17', '03/31/17',\n",
       "       '04/01/17', '04/02/17', '04/03/17', '04/04/17', '04/05/17',\n",
       "       '04/06/17', '04/07/17', '04/08/17', '04/09/17', '04/10/17',\n",
       "       '04/11/17', '04/12/17', '04/13/17', '04/14/17', '04/15/17',\n",
       "       '04/16/17', '04/17/17', '04/18/17', '04/19/17', '04/20/17',\n",
       "       '04/21/17', '04/22/17', '04/23/17', '04/24/17', '04/25/17',\n",
       "       '04/26/17', '04/27/17', '04/28/17', '04/29/17', '04/30/17',\n",
       "       '05/01/17',\n",
       "       '<Error><Code>NoSuchKey</Code><Message>The specified key does not exist.</Message><Key>airnow/2017/20170431/reportingarea.dat</Key><RequestId>CD08C51270AB14F0</RequestId><HostId>dwiR34VkC5i6ym0HeKm3ZZUuc9uoidstqt1BzgrDB+1XaM06MNnAxaKPUzABVZ2Aay9um+QdDgM=</HostId></Error>',\n",
       "       '05/02/17', '05/03/17', '05/04/17', '05/05/17', '05/06/17',\n",
       "       '05/07/17', '05/08/17', '05/09/17', '05/10/17', '05/11/17',\n",
       "       '05/12/17', '05/13/17', '05/14/17', '05/15/17', '05/16/17',\n",
       "       '05/17/17', '05/18/17', '05/19/17', '05/20/17', '05/21/17',\n",
       "       '05/22/17', '05/23/17', '05/24/17', '05/25/17', '05/26/17',\n",
       "       '05/27/17', '05/28/17', '05/29/17', '05/30/17', '05/31/17',\n",
       "       '06/01/17', '06/02/17', '06/03/17', '06/04/17', '06/05/17',\n",
       "       '06/06/17', '06/07/17', '06/08/17', '06/09/17', '06/10/17',\n",
       "       '06/11/17', '06/12/17', '06/13/17', '06/14/17', '06/15/17',\n",
       "       '06/16/17', '06/17/17', '06/18/17', '06/19/17', '06/20/17',\n",
       "       '06/21/17', '06/22/17', '06/23/17', '06/24/17', '06/25/17',\n",
       "       '06/26/17', '06/27/17', '06/28/17', '06/29/17', '06/30/17',\n",
       "       '07/01/17',\n",
       "       '<Error><Code>NoSuchKey</Code><Message>The specified key does not exist.</Message><Key>airnow/2017/20170631/reportingarea.dat</Key><RequestId>B78918F28CE4B07D</RequestId><HostId>BSi+sEwBJqyiL2jLZrJ95GRmNeIgHg19AFcFrhRdzguDyHQJJr4m9NUCwYX54t2rNgwlZ+mgBTY=</HostId></Error>'],\n",
       "      dtype=object)"
      ]
     },
     "execution_count": 38,
     "metadata": {},
     "output_type": "execute_result"
    }
   ],
   "source": [
    "air_data_annual['issue date'].unique()"
   ]
  },
  {
   "cell_type": "code",
   "execution_count": 39,
   "metadata": {},
   "outputs": [],
   "source": [
    "h1_2014 = air_data_annual"
   ]
  },
  {
   "cell_type": "markdown",
   "metadata": {},
   "source": [
    "# Joining dfs together"
   ]
  },
  {
   "cell_type": "code",
   "execution_count": null,
   "metadata": {},
   "outputs": [],
   "source": [
    "q1_2015    #4 mths worth of data\n",
    "q2_2015    #4 mths worth of data\n",
    "q3_2015    #4 mths worth of data"
   ]
  },
  {
   "cell_type": "code",
   "execution_count": 48,
   "metadata": {},
   "outputs": [
    {
     "data": {
      "text/plain": [
       "(1483704, 18)"
      ]
     },
     "execution_count": 48,
     "metadata": {},
     "output_type": "execute_result"
    }
   ],
   "source": [
    "air_data_2015 = pd.concat([q1_2015, q2_2015, q3_2015], axis=0, ignore_index=True)\n",
    "air_data_2015.shape"
   ]
  },
  {
   "cell_type": "code",
   "execution_count": null,
   "metadata": {},
   "outputs": [],
   "source": [
    "h1_2016\n",
    "h2_2016"
   ]
  },
  {
   "cell_type": "code",
   "execution_count": 49,
   "metadata": {},
   "outputs": [
    {
     "data": {
      "text/plain": [
       "(1641926, 18)"
      ]
     },
     "execution_count": 49,
     "metadata": {},
     "output_type": "execute_result"
    }
   ],
   "source": [
    "air_data_2016 = pd.concat([h1_2016, h2_2016], axis=0, ignore_index=True)\n",
    "air_data_2016.shape"
   ]
  },
  {
   "cell_type": "code",
   "execution_count": 52,
   "metadata": {},
   "outputs": [
    {
     "data": {
      "text/plain": [
       "(815928, 18)"
      ]
     },
     "execution_count": 52,
     "metadata": {},
     "output_type": "execute_result"
    }
   ],
   "source": [
    "h1_2017.shape"
   ]
  },
  {
   "cell_type": "code",
   "execution_count": 50,
   "metadata": {},
   "outputs": [],
   "source": [
    "air_data_last12 = pd.read_csv('../Data/data.csv')"
   ]
  },
  {
   "cell_type": "code",
   "execution_count": 51,
   "metadata": {},
   "outputs": [
    {
     "data": {
      "text/plain": [
       "(1897918, 19)"
      ]
     },
     "execution_count": 51,
     "metadata": {},
     "output_type": "execute_result"
    }
   ],
   "source": [
    "air_data_last12.shape"
   ]
  },
  {
   "cell_type": "code",
   "execution_count": 53,
   "metadata": {},
   "outputs": [],
   "source": [
    "data2015_18 =pd.concat([air_data_2015, air_data_2016, h1_2017, air_data_last12], axis = 0, ignore_index = True)"
   ]
  },
  {
   "cell_type": "code",
   "execution_count": 55,
   "metadata": {},
   "outputs": [
    {
     "data": {
      "text/plain": [
       "(5839476, 19)"
      ]
     },
     "execution_count": 55,
     "metadata": {},
     "output_type": "execute_result"
    }
   ],
   "source": [
    "data2015_18.shape"
   ]
  },
  {
   "cell_type": "code",
   "execution_count": 56,
   "metadata": {},
   "outputs": [],
   "source": [
    "data2015_18.to_csv('../Data/data2015_18.csv')"
   ]
  }
 ],
 "metadata": {
  "kernelspec": {
   "display_name": "Python [conda env:dsi]",
   "language": "python",
   "name": "conda-env-dsi-py"
  },
  "language_info": {
   "codemirror_mode": {
    "name": "ipython",
    "version": 3
   },
   "file_extension": ".py",
   "mimetype": "text/x-python",
   "name": "python",
   "nbconvert_exporter": "python",
   "pygments_lexer": "ipython3",
   "version": "3.6.5"
  }
 },
 "nbformat": 4,
 "nbformat_minor": 2
}
